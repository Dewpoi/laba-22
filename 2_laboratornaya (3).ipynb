{
 "cells": [
  {
   "cell_type": "markdown",
   "id": "eb210b92",
   "metadata": {},
   "source": [
    "# Импорт библиотек"
   ]
  },
  {
   "cell_type": "code",
   "execution_count": 364,
   "id": "bbe0d64d-d188-4ac5-a0bc-ae525c227cad",
   "metadata": {},
   "outputs": [],
   "source": [
    "import numpy as num\n",
    "import pandas as pand\n",
    "import matplotlib.pyplot as plot\n",
    "import seaborn as sea\n",
    "from sklearn.model_selection import train_test_split\n",
    "from sklearn.linear_model import LogisticRegression\n",
    "from sklearn.metrics import accuracy_score\n",
    "from sklearn.linear_model import LinearRegression\n",
    "from sklearn.metrics import mean_squared_error\n",
    "from sklearn.preprocessing import StandardScaler\n",
    "from matplotlib.colors import ListedColormap"
   ]
  },
  {
   "cell_type": "markdown",
   "id": "91ec31ba-cf1a-4da6-a0e6-c1c06d4d0b56",
   "metadata": {},
   "source": [
    "# Лабораторная работа №2."
   ]
  },
  {
   "cell_type": "markdown",
   "id": "df92c216",
   "metadata": {},
   "source": [
    "## Часть 1."
   ]
  },
  {
   "cell_type": "markdown",
   "id": "58370ca4-d0e8-4176-8884-009fb3e38ec9",
   "metadata": {},
   "source": [
    "### Задание 1."
   ]
  },
  {
   "cell_type": "markdown",
   "id": "b4f1bbde",
   "metadata": {},
   "source": [
    "##### Чтение датасетов из файлов orders.csv и products.csv."
   ]
  },
  {
   "cell_type": "code",
   "execution_count": 365,
   "id": "e65678e6-9dd8-4f70-ac58-00df5ab5fd20",
   "metadata": {},
   "outputs": [
    {
     "name": "stdout",
     "output_type": "stream",
     "text": [
      "      OrderID   OrderDate  ProductID  UnitPrice  Quantity  Discount\n",
      "0       10248  2007-01-30         11      28.62        12      0.00\n",
      "1       10248  2007-01-30         42      14.04        10      0.00\n",
      "2       10248  2007-01-30         72      12.71         5      0.00\n",
      "3       10249  2006-01-29         14      22.80         9      0.00\n",
      "4       10249  2006-01-29         51     101.20        40      0.00\n",
      "...       ...         ...        ...        ...       ...       ...\n",
      "2167    11083  2006-06-16         37       4.50         7      0.00\n",
      "2168    11083  2006-06-16         42      15.65        10      0.00\n",
      "2169    11083  2006-06-16         47      25.50         5      0.00\n",
      "2170    11083  2006-06-16         51      99.90         3      0.03\n",
      "2171    11083  2006-06-16         62      24.00         5      0.04\n",
      "\n",
      "[2172 rows x 6 columns]\n",
      "    ProductID   ProductName  QuantityPerUnit  UnitCost  UnitPrice CategoryName\n",
      "0           1         Банан               10     15.37      20.00       Фрукты\n",
      "1           2      Апельсин               10     16.17      19.00       Фрукты\n",
      "2           5        Яблоко              100      4.72       6.00       Фрукты\n",
      "3          11          Киви               25     21.10      28.00       Фрукты\n",
      "4          24       Абрикос              100      3.90       4.50       Фрукты\n",
      "..        ...           ...              ...       ...        ...          ...\n",
      "72         42          Утка                1     10.95      14.00   Мясо/Птица\n",
      "73         52      Говядина               14     70.81      80.00   Мясо/Птица\n",
      "74         56       Свинина               15     34.17      38.00   Мясо/Птица\n",
      "75         57   Фарш свиной               20     16.14      19.50   Мясо/Птица\n",
      "76         64  Фарш говяжий                1     29.25      33.25   Мясо/Птица\n",
      "\n",
      "[77 rows x 6 columns]\n"
     ]
    }
   ],
   "source": [
    "orders = pand.read_csv(\"orders.csv\")\n",
    "products = pand.read_csv(\"products.csv\")\n",
    "\n",
    "print(orders)\n",
    "print(products)"
   ]
  },
  {
   "cell_type": "markdown",
   "id": "ef93c0f1-d009-42ec-ac93-75952616291d",
   "metadata": {},
   "source": [
    "##### 1) Определите число уникальных продуктов в каждой категории"
   ]
  },
  {
   "cell_type": "code",
   "execution_count": 366,
   "id": "f850e3fb-35bc-4e26-b34f-738b1bdcf530",
   "metadata": {},
   "outputs": [
    {
     "data": {
      "text/plain": [
       "Кондитерские изделия    17\n",
       "Овощи                   16\n",
       "Приправы                11\n",
       "Фрукты                   9\n",
       "Морепродукты             7\n",
       "Мясо/Птица               7\n",
       "Молочные продукты        6\n",
       "Крупы                    4\n",
       "Name: CategoryName, dtype: int64"
      ]
     },
     "execution_count": 366,
     "metadata": {},
     "output_type": "execute_result"
    }
   ],
   "source": [
    "products[\"CategoryName\"].value_counts()"
   ]
  },
  {
   "cell_type": "markdown",
   "id": "753cf6c8-7c54-4475-953e-2f2e71ead547",
   "metadata": {},
   "source": [
    "##### 2) Выведите все продукты в категории \"Морепродукты\""
   ]
  },
  {
   "cell_type": "code",
   "execution_count": 367,
   "id": "3c14298e-518f-43e7-bb63-47e9f05c9ae8",
   "metadata": {},
   "outputs": [
    {
     "data": {
      "text/html": [
       "<div>\n",
       "<style scoped>\n",
       "    .dataframe tbody tr th:only-of-type {\n",
       "        vertical-align: middle;\n",
       "    }\n",
       "\n",
       "    .dataframe tbody tr th {\n",
       "        vertical-align: top;\n",
       "    }\n",
       "\n",
       "    .dataframe thead th {\n",
       "        text-align: right;\n",
       "    }\n",
       "</style>\n",
       "<table border=\"1\" class=\"dataframe\">\n",
       "  <thead>\n",
       "    <tr style=\"text-align: right;\">\n",
       "      <th></th>\n",
       "      <th>ProductID</th>\n",
       "      <th>ProductName</th>\n",
       "      <th>QuantityPerUnit</th>\n",
       "      <th>UnitCost</th>\n",
       "      <th>UnitPrice</th>\n",
       "      <th>CategoryName</th>\n",
       "    </tr>\n",
       "  </thead>\n",
       "  <tbody>\n",
       "    <tr>\n",
       "      <th>29</th>\n",
       "      <td>9</td>\n",
       "      <td>Омары</td>\n",
       "      <td>10</td>\n",
       "      <td>32.90</td>\n",
       "      <td>39.00</td>\n",
       "      <td>Морепродукты</td>\n",
       "    </tr>\n",
       "    <tr>\n",
       "      <th>30</th>\n",
       "      <td>17</td>\n",
       "      <td>Кальмары</td>\n",
       "      <td>36</td>\n",
       "      <td>19.35</td>\n",
       "      <td>25.00</td>\n",
       "      <td>Морепродукты</td>\n",
       "    </tr>\n",
       "    <tr>\n",
       "      <th>31</th>\n",
       "      <td>29</td>\n",
       "      <td>Креветки</td>\n",
       "      <td>1</td>\n",
       "      <td>100.74</td>\n",
       "      <td>123.79</td>\n",
       "      <td>Морепродукты</td>\n",
       "    </tr>\n",
       "    <tr>\n",
       "      <th>32</th>\n",
       "      <td>45</td>\n",
       "      <td>Крабовые палочки</td>\n",
       "      <td>100</td>\n",
       "      <td>8.44</td>\n",
       "      <td>9.50</td>\n",
       "      <td>Морепродукты</td>\n",
       "    </tr>\n",
       "    <tr>\n",
       "      <th>33</th>\n",
       "      <td>47</td>\n",
       "      <td>Мидии мини</td>\n",
       "      <td>14</td>\n",
       "      <td>22.12</td>\n",
       "      <td>25.50</td>\n",
       "      <td>Морепродукты</td>\n",
       "    </tr>\n",
       "    <tr>\n",
       "      <th>34</th>\n",
       "      <td>48</td>\n",
       "      <td>Креветки мини</td>\n",
       "      <td>25</td>\n",
       "      <td>28.35</td>\n",
       "      <td>32.75</td>\n",
       "      <td>Морепродукты</td>\n",
       "    </tr>\n",
       "    <tr>\n",
       "      <th>35</th>\n",
       "      <td>51</td>\n",
       "      <td>Мидии</td>\n",
       "      <td>10</td>\n",
       "      <td>82.74</td>\n",
       "      <td>99.90</td>\n",
       "      <td>Морепродукты</td>\n",
       "    </tr>\n",
       "  </tbody>\n",
       "</table>\n",
       "</div>"
      ],
      "text/plain": [
       "    ProductID       ProductName  QuantityPerUnit  UnitCost  UnitPrice  CategoryName\n",
       "29          9             Омары               10     32.90      39.00  Морепродукты\n",
       "30         17          Кальмары               36     19.35      25.00  Морепродукты\n",
       "31         29          Креветки                1    100.74     123.79  Морепродукты\n",
       "32         45  Крабовые палочки              100      8.44       9.50  Морепродукты\n",
       "33         47        Мидии мини               14     22.12      25.50  Морепродукты\n",
       "34         48     Креветки мини               25     28.35      32.75  Морепродукты\n",
       "35         51             Мидии               10     82.74      99.90  Морепродукты"
      ]
     },
     "execution_count": 367,
     "metadata": {},
     "output_type": "execute_result"
    }
   ],
   "source": [
    "products[products[\"CategoryName\"] == 'Морепродукты']"
   ]
  },
  {
   "cell_type": "markdown",
   "id": "df81b572-eb61-4787-95a2-e8414eba3cc1",
   "metadata": {},
   "source": [
    "##### 3) Выведите график числа заказов за каждый прошедший месяц."
   ]
  },
  {
   "cell_type": "code",
   "execution_count": 368,
   "id": "46e8c1f5-fc59-4c1d-9575-ccaf3fac064e",
   "metadata": {},
   "outputs": [
    {
     "data": {
      "text/plain": [
       "<AxesSubplot:xlabel='OrderDate,OrderDate'>"
      ]
     },
     "execution_count": 368,
     "metadata": {},
     "output_type": "execute_result"
    },
    {
     "data": {
      "image/png": "[encoded data removed]",
      "text/plain": [
       "<Figure size 432x288 with 1 Axes>"
      ]
     },
     "metadata": {
      "needs_background": "light"
     },
     "output_type": "display_data"
    }
   ],
   "source": [
    "temp = orders.copy()\n",
    "temp = temp[[\"OrderID\", \"OrderDate\"]].drop_duplicates()\n",
    "temp.index = date = pand.to_datetime(temp[\"OrderDate\"])\n",
    "temp.groupby(by=[temp.index.year, temp.index.month])[\"OrderDate\"].count().plot()"
   ]
  },
  {
   "cell_type": "markdown",
   "id": "b65f510f",
   "metadata": {},
   "source": [
    "##### Обединим таблицы для дальнейшего удобства."
   ]
  },
  {
   "cell_type": "code",
   "execution_count": 369,
   "id": "524c9634",
   "metadata": {},
   "outputs": [],
   "source": [
    "joined = pand.merge(orders, products, how=\"inner\", on=\"ProductID\")"
   ]
  },
  {
   "cell_type": "markdown",
   "id": "57e30527-5ff2-4823-822c-a2abbf36e9bd",
   "metadata": {},
   "source": [
    "##### 4) Заведите столбец \"OrderSum\" (сколько было оплачено за продукт по заказу, с учётом его количества, стоимости единицы товара и скидки). Определите самые дорогие заказы (сгруппировав по OrderID)"
   ]
  },
  {
   "cell_type": "code",
   "execution_count": 370,
   "id": "90b8bbb0-5b99-4c60-a7ae-a645610913d3",
   "metadata": {},
   "outputs": [
    {
     "data": {
      "text/html": [
       "<div>\n",
       "<style scoped>\n",
       "    .dataframe tbody tr th:only-of-type {\n",
       "        vertical-align: middle;\n",
       "    }\n",
       "\n",
       "    .dataframe tbody tr th {\n",
       "        vertical-align: top;\n",
       "    }\n",
       "\n",
       "    .dataframe thead th {\n",
       "        text-align: right;\n",
       "    }\n",
       "</style>\n",
       "<table border=\"1\" class=\"dataframe\">\n",
       "  <thead>\n",
       "    <tr style=\"text-align: right;\">\n",
       "      <th></th>\n",
       "      <th>OrderID</th>\n",
       "      <th>OrderDate</th>\n",
       "      <th>ProductID</th>\n",
       "      <th>UnitPrice_x</th>\n",
       "      <th>Quantity</th>\n",
       "      <th>Discount</th>\n",
       "      <th>ProductName</th>\n",
       "      <th>QuantityPerUnit</th>\n",
       "      <th>UnitCost</th>\n",
       "      <th>UnitPrice_y</th>\n",
       "      <th>CategoryName</th>\n",
       "      <th>OrderSum</th>\n",
       "    </tr>\n",
       "  </thead>\n",
       "  <tbody>\n",
       "    <tr>\n",
       "      <th>0</th>\n",
       "      <td>10248</td>\n",
       "      <td>2007-01-30</td>\n",
       "      <td>11</td>\n",
       "      <td>28.62</td>\n",
       "      <td>12</td>\n",
       "      <td>0.00</td>\n",
       "      <td>Киви</td>\n",
       "      <td>25</td>\n",
       "      <td>21.1</td>\n",
       "      <td>28.0</td>\n",
       "      <td>Фрукты</td>\n",
       "      <td>8586.000000</td>\n",
       "    </tr>\n",
       "    <tr>\n",
       "      <th>1</th>\n",
       "      <td>10296</td>\n",
       "      <td>2004-02-02</td>\n",
       "      <td>11</td>\n",
       "      <td>26.62</td>\n",
       "      <td>12</td>\n",
       "      <td>0.00</td>\n",
       "      <td>Киви</td>\n",
       "      <td>25</td>\n",
       "      <td>21.1</td>\n",
       "      <td>28.0</td>\n",
       "      <td>Фрукты</td>\n",
       "      <td>7986.000000</td>\n",
       "    </tr>\n",
       "    <tr>\n",
       "      <th>2</th>\n",
       "      <td>10327</td>\n",
       "      <td>2004-07-08</td>\n",
       "      <td>11</td>\n",
       "      <td>29.10</td>\n",
       "      <td>50</td>\n",
       "      <td>0.20</td>\n",
       "      <td>Киви</td>\n",
       "      <td>25</td>\n",
       "      <td>21.1</td>\n",
       "      <td>28.0</td>\n",
       "      <td>Фрукты</td>\n",
       "      <td>29099.999892</td>\n",
       "    </tr>\n",
       "    <tr>\n",
       "      <th>3</th>\n",
       "      <td>10353</td>\n",
       "      <td>2007-06-11</td>\n",
       "      <td>11</td>\n",
       "      <td>29.75</td>\n",
       "      <td>12</td>\n",
       "      <td>0.20</td>\n",
       "      <td>Киви</td>\n",
       "      <td>25</td>\n",
       "      <td>21.1</td>\n",
       "      <td>28.0</td>\n",
       "      <td>Фрукты</td>\n",
       "      <td>7139.999973</td>\n",
       "    </tr>\n",
       "    <tr>\n",
       "      <th>4</th>\n",
       "      <td>10365</td>\n",
       "      <td>2004-06-24</td>\n",
       "      <td>11</td>\n",
       "      <td>29.48</td>\n",
       "      <td>24</td>\n",
       "      <td>0.00</td>\n",
       "      <td>Киви</td>\n",
       "      <td>25</td>\n",
       "      <td>21.1</td>\n",
       "      <td>28.0</td>\n",
       "      <td>Фрукты</td>\n",
       "      <td>17688.000000</td>\n",
       "    </tr>\n",
       "    <tr>\n",
       "      <th>...</th>\n",
       "      <td>...</td>\n",
       "      <td>...</td>\n",
       "      <td>...</td>\n",
       "      <td>...</td>\n",
       "      <td>...</td>\n",
       "      <td>...</td>\n",
       "      <td>...</td>\n",
       "      <td>...</td>\n",
       "      <td>...</td>\n",
       "      <td>...</td>\n",
       "      <td>...</td>\n",
       "      <td>...</td>\n",
       "    </tr>\n",
       "    <tr>\n",
       "      <th>2167</th>\n",
       "      <td>10515</td>\n",
       "      <td>2004-12-18</td>\n",
       "      <td>9</td>\n",
       "      <td>42.05</td>\n",
       "      <td>16</td>\n",
       "      <td>0.15</td>\n",
       "      <td>Омары</td>\n",
       "      <td>10</td>\n",
       "      <td>32.9</td>\n",
       "      <td>39.0</td>\n",
       "      <td>Морепродукты</td>\n",
       "      <td>5718.799960</td>\n",
       "    </tr>\n",
       "    <tr>\n",
       "      <th>2168</th>\n",
       "      <td>10687</td>\n",
       "      <td>2006-04-26</td>\n",
       "      <td>9</td>\n",
       "      <td>41.17</td>\n",
       "      <td>50</td>\n",
       "      <td>0.25</td>\n",
       "      <td>Омары</td>\n",
       "      <td>10</td>\n",
       "      <td>32.9</td>\n",
       "      <td>39.0</td>\n",
       "      <td>Морепродукты</td>\n",
       "      <td>15438.750000</td>\n",
       "    </tr>\n",
       "    <tr>\n",
       "      <th>2169</th>\n",
       "      <td>10693</td>\n",
       "      <td>2006-05-02</td>\n",
       "      <td>9</td>\n",
       "      <td>35.30</td>\n",
       "      <td>6</td>\n",
       "      <td>0.00</td>\n",
       "      <td>Омары</td>\n",
       "      <td>10</td>\n",
       "      <td>32.9</td>\n",
       "      <td>39.0</td>\n",
       "      <td>Морепродукты</td>\n",
       "      <td>2118.000000</td>\n",
       "    </tr>\n",
       "    <tr>\n",
       "      <th>2170</th>\n",
       "      <td>10848</td>\n",
       "      <td>2007-06-21</td>\n",
       "      <td>9</td>\n",
       "      <td>40.32</td>\n",
       "      <td>3</td>\n",
       "      <td>0.00</td>\n",
       "      <td>Омары</td>\n",
       "      <td>10</td>\n",
       "      <td>32.9</td>\n",
       "      <td>39.0</td>\n",
       "      <td>Морепродукты</td>\n",
       "      <td>1209.600000</td>\n",
       "    </tr>\n",
       "    <tr>\n",
       "      <th>2171</th>\n",
       "      <td>11083</td>\n",
       "      <td>2006-06-16</td>\n",
       "      <td>9</td>\n",
       "      <td>38.90</td>\n",
       "      <td>5</td>\n",
       "      <td>0.00</td>\n",
       "      <td>Омары</td>\n",
       "      <td>10</td>\n",
       "      <td>32.9</td>\n",
       "      <td>39.0</td>\n",
       "      <td>Морепродукты</td>\n",
       "      <td>1945.000000</td>\n",
       "    </tr>\n",
       "  </tbody>\n",
       "</table>\n",
       "<p>2172 rows × 12 columns</p>\n",
       "</div>"
      ],
      "text/plain": [
       "      OrderID   OrderDate  ProductID  UnitPrice_x  Quantity  Discount ProductName  QuantityPerUnit  UnitCost  UnitPrice_y  CategoryName      OrderSum\n",
       "0       10248  2007-01-30         11        28.62        12      0.00        Киви               25      21.1         28.0        Фрукты   8586.000000\n",
       "1       10296  2004-02-02         11        26.62        12      0.00        Киви               25      21.1         28.0        Фрукты   7986.000000\n",
       "2       10327  2004-07-08         11        29.10        50      0.20        Киви               25      21.1         28.0        Фрукты  29099.999892\n",
       "3       10353  2007-06-11         11        29.75        12      0.20        Киви               25      21.1         28.0        Фрукты   7139.999973\n",
       "4       10365  2004-06-24         11        29.48        24      0.00        Киви               25      21.1         28.0        Фрукты  17688.000000\n",
       "...       ...         ...        ...          ...       ...       ...         ...              ...       ...          ...           ...           ...\n",
       "2167    10515  2004-12-18          9        42.05        16      0.15       Омары               10      32.9         39.0  Морепродукты   5718.799960\n",
       "2168    10687  2006-04-26          9        41.17        50      0.25       Омары               10      32.9         39.0  Морепродукты  15438.750000\n",
       "2169    10693  2006-05-02          9        35.30         6      0.00       Омары               10      32.9         39.0  Морепродукты   2118.000000\n",
       "2170    10848  2007-06-21          9        40.32         3      0.00       Омары               10      32.9         39.0  Морепродукты   1209.600000\n",
       "2171    11083  2006-06-16          9        38.90         5      0.00       Омары               10      32.9         39.0  Морепродукты   1945.000000\n",
       "\n",
       "[2172 rows x 12 columns]"
      ]
     },
     "execution_count": 370,
     "metadata": {},
     "output_type": "execute_result"
    }
   ],
   "source": [
    "joined[\"OrderSum\"] = num.where(joined[\"Discount\"] == 0.0, joined[\"Quantity\"] * joined[\"QuantityPerUnit\"] * joined[\"UnitPrice_x\"],\n",
    " joined[\"Quantity\"] * joined[\"QuantityPerUnit\"] * joined[\"UnitPrice_x\"] * (1 - joined[\"Discount\"]))\n",
    "\n",
    "joined"
   ]
  },
  {
   "cell_type": "markdown",
   "id": "849c0290-19d4-45fa-a313-e3e1e97886b1",
   "metadata": {},
   "source": [
    "##### 5) Определите продукты с максимальной стоимостью за шт. (не за единицу товара)"
   ]
  },
  {
   "cell_type": "code",
   "execution_count": 371,
   "id": "f8144159-3da7-427f-9770-f35b05bd6813",
   "metadata": {},
   "outputs": [
    {
     "data": {
      "text/plain": [
       "UnitCost\n",
       "0.89      Лавровый лист\n",
       "1.65       Булка-улитка\n",
       "2.65             Курица\n",
       "3.21                Лук\n",
       "3.43       Хмели-Сунели\n",
       "              ...      \n",
       "67.17             Батат\n",
       "70.81          Говядина\n",
       "82.74             Мидии\n",
       "100.74         Креветки\n",
       "304.70       Перец чили\n",
       "Name: ProductName, Length: 75, dtype: object"
      ]
     },
     "execution_count": 371,
     "metadata": {},
     "output_type": "execute_result"
    }
   ],
   "source": [
    "joined.groupby(by=\"UnitCost\")[\"ProductName\"].max()"
   ]
  },
  {
   "cell_type": "markdown",
   "id": "d995bc4f-7db4-426d-b2ca-84fea16ffd39",
   "metadata": {},
   "source": [
    "### Задание 2."
   ]
  },
  {
   "cell_type": "markdown",
   "id": "c0acf075-eeca-46a7-b661-e0b599a6f3c5",
   "metadata": {},
   "source": [
    "##### 1) Для каждой категории продуктов выведите средний доход от продаж. (OrderSum)"
   ]
  },
  {
   "cell_type": "code",
   "execution_count": 372,
   "id": "097c0cf1-fbfe-4ad2-8aa1-642e60da87ff",
   "metadata": {},
   "outputs": [
    {
     "data": {
      "text/plain": [
       "CategoryName\n",
       "Кондитерские изделия     8910.471721\n",
       "Крупы                   17822.889924\n",
       "Молочные продукты        2931.392029\n",
       "Морепродукты            15559.619538\n",
       "Мясо/Птица              10385.404127\n",
       "Овощи                   10015.013521\n",
       "Приправы                 5602.587698\n",
       "Фрукты                   6353.007471\n",
       "Name: OrderSum, dtype: float64"
      ]
     },
     "execution_count": 372,
     "metadata": {},
     "output_type": "execute_result"
    }
   ],
   "source": [
    "joined.groupby(by=\"CategoryName\")[\"OrderSum\"].mean()"
   ]
  },
  {
   "cell_type": "markdown",
   "id": "bbd092a1-1575-43ef-8ada-58b8e0cb2afc",
   "metadata": {},
   "source": [
    "##### 2) Введите столбец \"Profit\" - разность между доходами и приблизительной закупочной стоимостью проданных товаров."
   ]
  },
  {
   "cell_type": "code",
   "execution_count": 373,
   "id": "bc05b994-3b5f-48e7-b8e5-2e258ac37c4f",
   "metadata": {},
   "outputs": [
    {
     "data": {
      "text/html": [
       "<div>\n",
       "<style scoped>\n",
       "    .dataframe tbody tr th:only-of-type {\n",
       "        vertical-align: middle;\n",
       "    }\n",
       "\n",
       "    .dataframe tbody tr th {\n",
       "        vertical-align: top;\n",
       "    }\n",
       "\n",
       "    .dataframe thead th {\n",
       "        text-align: right;\n",
       "    }\n",
       "</style>\n",
       "<table border=\"1\" class=\"dataframe\">\n",
       "  <thead>\n",
       "    <tr style=\"text-align: right;\">\n",
       "      <th></th>\n",
       "      <th>OrderID</th>\n",
       "      <th>OrderDate</th>\n",
       "      <th>ProductID</th>\n",
       "      <th>UnitPrice_x</th>\n",
       "      <th>Quantity</th>\n",
       "      <th>Discount</th>\n",
       "      <th>ProductName</th>\n",
       "      <th>QuantityPerUnit</th>\n",
       "      <th>UnitCost</th>\n",
       "      <th>UnitPrice_y</th>\n",
       "      <th>CategoryName</th>\n",
       "      <th>OrderSum</th>\n",
       "      <th>Profit</th>\n",
       "    </tr>\n",
       "  </thead>\n",
       "  <tbody>\n",
       "    <tr>\n",
       "      <th>0</th>\n",
       "      <td>10248</td>\n",
       "      <td>2007-01-30</td>\n",
       "      <td>11</td>\n",
       "      <td>28.62</td>\n",
       "      <td>12</td>\n",
       "      <td>0.00</td>\n",
       "      <td>Киви</td>\n",
       "      <td>25</td>\n",
       "      <td>21.1</td>\n",
       "      <td>28.0</td>\n",
       "      <td>Фрукты</td>\n",
       "      <td>8586.000000</td>\n",
       "      <td>2256.000000</td>\n",
       "    </tr>\n",
       "    <tr>\n",
       "      <th>1</th>\n",
       "      <td>10296</td>\n",
       "      <td>2004-02-02</td>\n",
       "      <td>11</td>\n",
       "      <td>26.62</td>\n",
       "      <td>12</td>\n",
       "      <td>0.00</td>\n",
       "      <td>Киви</td>\n",
       "      <td>25</td>\n",
       "      <td>21.1</td>\n",
       "      <td>28.0</td>\n",
       "      <td>Фрукты</td>\n",
       "      <td>7986.000000</td>\n",
       "      <td>1656.000000</td>\n",
       "    </tr>\n",
       "    <tr>\n",
       "      <th>2</th>\n",
       "      <td>10327</td>\n",
       "      <td>2004-07-08</td>\n",
       "      <td>11</td>\n",
       "      <td>29.10</td>\n",
       "      <td>50</td>\n",
       "      <td>0.20</td>\n",
       "      <td>Киви</td>\n",
       "      <td>25</td>\n",
       "      <td>21.1</td>\n",
       "      <td>28.0</td>\n",
       "      <td>Фрукты</td>\n",
       "      <td>29099.999892</td>\n",
       "      <td>2724.999892</td>\n",
       "    </tr>\n",
       "    <tr>\n",
       "      <th>3</th>\n",
       "      <td>10353</td>\n",
       "      <td>2007-06-11</td>\n",
       "      <td>11</td>\n",
       "      <td>29.75</td>\n",
       "      <td>12</td>\n",
       "      <td>0.20</td>\n",
       "      <td>Киви</td>\n",
       "      <td>25</td>\n",
       "      <td>21.1</td>\n",
       "      <td>28.0</td>\n",
       "      <td>Фрукты</td>\n",
       "      <td>7139.999973</td>\n",
       "      <td>809.999973</td>\n",
       "    </tr>\n",
       "    <tr>\n",
       "      <th>4</th>\n",
       "      <td>10365</td>\n",
       "      <td>2004-06-24</td>\n",
       "      <td>11</td>\n",
       "      <td>29.48</td>\n",
       "      <td>24</td>\n",
       "      <td>0.00</td>\n",
       "      <td>Киви</td>\n",
       "      <td>25</td>\n",
       "      <td>21.1</td>\n",
       "      <td>28.0</td>\n",
       "      <td>Фрукты</td>\n",
       "      <td>17688.000000</td>\n",
       "      <td>5028.000000</td>\n",
       "    </tr>\n",
       "    <tr>\n",
       "      <th>...</th>\n",
       "      <td>...</td>\n",
       "      <td>...</td>\n",
       "      <td>...</td>\n",
       "      <td>...</td>\n",
       "      <td>...</td>\n",
       "      <td>...</td>\n",
       "      <td>...</td>\n",
       "      <td>...</td>\n",
       "      <td>...</td>\n",
       "      <td>...</td>\n",
       "      <td>...</td>\n",
       "      <td>...</td>\n",
       "      <td>...</td>\n",
       "    </tr>\n",
       "    <tr>\n",
       "      <th>2167</th>\n",
       "      <td>10515</td>\n",
       "      <td>2004-12-18</td>\n",
       "      <td>9</td>\n",
       "      <td>42.05</td>\n",
       "      <td>16</td>\n",
       "      <td>0.15</td>\n",
       "      <td>Омары</td>\n",
       "      <td>10</td>\n",
       "      <td>32.9</td>\n",
       "      <td>39.0</td>\n",
       "      <td>Морепродукты</td>\n",
       "      <td>5718.799960</td>\n",
       "      <td>454.799960</td>\n",
       "    </tr>\n",
       "    <tr>\n",
       "      <th>2168</th>\n",
       "      <td>10687</td>\n",
       "      <td>2006-04-26</td>\n",
       "      <td>9</td>\n",
       "      <td>41.17</td>\n",
       "      <td>50</td>\n",
       "      <td>0.25</td>\n",
       "      <td>Омары</td>\n",
       "      <td>10</td>\n",
       "      <td>32.9</td>\n",
       "      <td>39.0</td>\n",
       "      <td>Морепродукты</td>\n",
       "      <td>15438.750000</td>\n",
       "      <td>-1011.250000</td>\n",
       "    </tr>\n",
       "    <tr>\n",
       "      <th>2169</th>\n",
       "      <td>10693</td>\n",
       "      <td>2006-05-02</td>\n",
       "      <td>9</td>\n",
       "      <td>35.30</td>\n",
       "      <td>6</td>\n",
       "      <td>0.00</td>\n",
       "      <td>Омары</td>\n",
       "      <td>10</td>\n",
       "      <td>32.9</td>\n",
       "      <td>39.0</td>\n",
       "      <td>Морепродукты</td>\n",
       "      <td>2118.000000</td>\n",
       "      <td>144.000000</td>\n",
       "    </tr>\n",
       "    <tr>\n",
       "      <th>2170</th>\n",
       "      <td>10848</td>\n",
       "      <td>2007-06-21</td>\n",
       "      <td>9</td>\n",
       "      <td>40.32</td>\n",
       "      <td>3</td>\n",
       "      <td>0.00</td>\n",
       "      <td>Омары</td>\n",
       "      <td>10</td>\n",
       "      <td>32.9</td>\n",
       "      <td>39.0</td>\n",
       "      <td>Морепродукты</td>\n",
       "      <td>1209.600000</td>\n",
       "      <td>222.600000</td>\n",
       "    </tr>\n",
       "    <tr>\n",
       "      <th>2171</th>\n",
       "      <td>11083</td>\n",
       "      <td>2006-06-16</td>\n",
       "      <td>9</td>\n",
       "      <td>38.90</td>\n",
       "      <td>5</td>\n",
       "      <td>0.00</td>\n",
       "      <td>Омары</td>\n",
       "      <td>10</td>\n",
       "      <td>32.9</td>\n",
       "      <td>39.0</td>\n",
       "      <td>Морепродукты</td>\n",
       "      <td>1945.000000</td>\n",
       "      <td>300.000000</td>\n",
       "    </tr>\n",
       "  </tbody>\n",
       "</table>\n",
       "<p>2172 rows × 13 columns</p>\n",
       "</div>"
      ],
      "text/plain": [
       "      OrderID   OrderDate  ProductID  UnitPrice_x  Quantity  Discount ProductName  QuantityPerUnit  UnitCost  UnitPrice_y  CategoryName      OrderSum       Profit\n",
       "0       10248  2007-01-30         11        28.62        12      0.00        Киви               25      21.1         28.0        Фрукты   8586.000000  2256.000000\n",
       "1       10296  2004-02-02         11        26.62        12      0.00        Киви               25      21.1         28.0        Фрукты   7986.000000  1656.000000\n",
       "2       10327  2004-07-08         11        29.10        50      0.20        Киви               25      21.1         28.0        Фрукты  29099.999892  2724.999892\n",
       "3       10353  2007-06-11         11        29.75        12      0.20        Киви               25      21.1         28.0        Фрукты   7139.999973   809.999973\n",
       "4       10365  2004-06-24         11        29.48        24      0.00        Киви               25      21.1         28.0        Фрукты  17688.000000  5028.000000\n",
       "...       ...         ...        ...          ...       ...       ...         ...              ...       ...          ...           ...           ...          ...\n",
       "2167    10515  2004-12-18          9        42.05        16      0.15       Омары               10      32.9         39.0  Морепродукты   5718.799960   454.799960\n",
       "2168    10687  2006-04-26          9        41.17        50      0.25       Омары               10      32.9         39.0  Морепродукты  15438.750000 -1011.250000\n",
       "2169    10693  2006-05-02          9        35.30         6      0.00       Омары               10      32.9         39.0  Морепродукты   2118.000000   144.000000\n",
       "2170    10848  2007-06-21          9        40.32         3      0.00       Омары               10      32.9         39.0  Морепродукты   1209.600000   222.600000\n",
       "2171    11083  2006-06-16          9        38.90         5      0.00       Омары               10      32.9         39.0  Морепродукты   1945.000000   300.000000\n",
       "\n",
       "[2172 rows x 13 columns]"
      ]
     },
     "execution_count": 373,
     "metadata": {},
     "output_type": "execute_result"
    }
   ],
   "source": [
    "joined[\"Profit\"] = joined[\"OrderSum\"] - joined[\"Quantity\"] * joined[\"QuantityPerUnit\"] * joined[\"UnitCost\"]\n",
    "\n",
    "joined"
   ]
  },
  {
   "cell_type": "markdown",
   "id": "92ca5147-9f48-47af-8491-18c8cd5b6de5",
   "metadata": {},
   "source": [
    "##### 3) Найдите по убыванию суммарной прибыли категории товаров, обеспечивающие  её 80 процентов. Выведите аналогичные данные только за 2005 и 2006 год."
   ]
  },
  {
   "cell_type": "code",
   "execution_count": 374,
   "id": "f63979c2-50ed-44cb-bb2c-484a4a75d55c",
   "metadata": {},
   "outputs": [
    {
     "data": {
      "text/plain": [
       "CategoryName\n",
       "Молочные продукты       0.021873\n",
       "Мясо/Птица              0.096987\n",
       "Приправы                0.097838\n",
       "Фрукты                  0.100063\n",
       "Морепродукты            0.107323\n",
       "Крупы                   0.107591\n",
       "Овощи                   0.229720\n",
       "Кондитерские изделия    0.238605\n",
       "Name: Profit, dtype: float64"
      ]
     },
     "execution_count": 374,
     "metadata": {},
     "output_type": "execute_result"
    }
   ],
   "source": [
    "(joined.groupby(by=\"CategoryName\")[\"Profit\"].sum() / joined[\"Profit\"].sum()).sort_values()\n"
   ]
  },
  {
   "cell_type": "markdown",
   "id": "0793aa50-97c1-4726-af19-86e3a8dac481",
   "metadata": {},
   "source": [
    "#### Задание 3."
   ]
  },
  {
   "cell_type": "markdown",
   "id": "172672dd-3fc6-4319-9bc4-47175c1a1aa1",
   "metadata": {},
   "source": [
    "##### Чтение датасета из файла housing.csv."
   ]
  },
  {
   "cell_type": "code",
   "execution_count": 375,
   "id": "c879e3bb-081f-49a7-a1ee-ce803ff5b3bb",
   "metadata": {},
   "outputs": [
    {
     "data": {
      "text/html": [
       "<div>\n",
       "<style scoped>\n",
       "    .dataframe tbody tr th:only-of-type {\n",
       "        vertical-align: middle;\n",
       "    }\n",
       "\n",
       "    .dataframe tbody tr th {\n",
       "        vertical-align: top;\n",
       "    }\n",
       "\n",
       "    .dataframe thead th {\n",
       "        text-align: right;\n",
       "    }\n",
       "</style>\n",
       "<table border=\"1\" class=\"dataframe\">\n",
       "  <thead>\n",
       "    <tr style=\"text-align: right;\">\n",
       "      <th></th>\n",
       "      <th>longitude</th>\n",
       "      <th>latitude</th>\n",
       "      <th>housing_median_age</th>\n",
       "      <th>total_rooms</th>\n",
       "      <th>total_bedrooms</th>\n",
       "      <th>population</th>\n",
       "      <th>households</th>\n",
       "      <th>median_income</th>\n",
       "      <th>median_house_value</th>\n",
       "      <th>ocean_proximity</th>\n",
       "    </tr>\n",
       "  </thead>\n",
       "  <tbody>\n",
       "    <tr>\n",
       "      <th>0</th>\n",
       "      <td>-122.23</td>\n",
       "      <td>37.88</td>\n",
       "      <td>41.0</td>\n",
       "      <td>880.0</td>\n",
       "      <td>129.0</td>\n",
       "      <td>322.0</td>\n",
       "      <td>126.0</td>\n",
       "      <td>8.3252</td>\n",
       "      <td>452600.0</td>\n",
       "      <td>NEAR BAY</td>\n",
       "    </tr>\n",
       "    <tr>\n",
       "      <th>1</th>\n",
       "      <td>-122.22</td>\n",
       "      <td>37.86</td>\n",
       "      <td>21.0</td>\n",
       "      <td>7099.0</td>\n",
       "      <td>1106.0</td>\n",
       "      <td>2401.0</td>\n",
       "      <td>1138.0</td>\n",
       "      <td>8.3014</td>\n",
       "      <td>358500.0</td>\n",
       "      <td>NEAR BAY</td>\n",
       "    </tr>\n",
       "    <tr>\n",
       "      <th>2</th>\n",
       "      <td>-122.24</td>\n",
       "      <td>37.85</td>\n",
       "      <td>52.0</td>\n",
       "      <td>1467.0</td>\n",
       "      <td>190.0</td>\n",
       "      <td>496.0</td>\n",
       "      <td>177.0</td>\n",
       "      <td>7.2574</td>\n",
       "      <td>352100.0</td>\n",
       "      <td>NEAR BAY</td>\n",
       "    </tr>\n",
       "    <tr>\n",
       "      <th>3</th>\n",
       "      <td>-122.25</td>\n",
       "      <td>37.85</td>\n",
       "      <td>52.0</td>\n",
       "      <td>1274.0</td>\n",
       "      <td>235.0</td>\n",
       "      <td>558.0</td>\n",
       "      <td>219.0</td>\n",
       "      <td>5.6431</td>\n",
       "      <td>341300.0</td>\n",
       "      <td>NEAR BAY</td>\n",
       "    </tr>\n",
       "    <tr>\n",
       "      <th>4</th>\n",
       "      <td>-122.25</td>\n",
       "      <td>37.85</td>\n",
       "      <td>52.0</td>\n",
       "      <td>1627.0</td>\n",
       "      <td>280.0</td>\n",
       "      <td>565.0</td>\n",
       "      <td>259.0</td>\n",
       "      <td>3.8462</td>\n",
       "      <td>342200.0</td>\n",
       "      <td>NEAR BAY</td>\n",
       "    </tr>\n",
       "    <tr>\n",
       "      <th>...</th>\n",
       "      <td>...</td>\n",
       "      <td>...</td>\n",
       "      <td>...</td>\n",
       "      <td>...</td>\n",
       "      <td>...</td>\n",
       "      <td>...</td>\n",
       "      <td>...</td>\n",
       "      <td>...</td>\n",
       "      <td>...</td>\n",
       "      <td>...</td>\n",
       "    </tr>\n",
       "    <tr>\n",
       "      <th>20635</th>\n",
       "      <td>-121.09</td>\n",
       "      <td>39.48</td>\n",
       "      <td>25.0</td>\n",
       "      <td>1665.0</td>\n",
       "      <td>374.0</td>\n",
       "      <td>845.0</td>\n",
       "      <td>330.0</td>\n",
       "      <td>1.5603</td>\n",
       "      <td>78100.0</td>\n",
       "      <td>INLAND</td>\n",
       "    </tr>\n",
       "    <tr>\n",
       "      <th>20636</th>\n",
       "      <td>-121.21</td>\n",
       "      <td>39.49</td>\n",
       "      <td>18.0</td>\n",
       "      <td>697.0</td>\n",
       "      <td>150.0</td>\n",
       "      <td>356.0</td>\n",
       "      <td>114.0</td>\n",
       "      <td>2.5568</td>\n",
       "      <td>77100.0</td>\n",
       "      <td>INLAND</td>\n",
       "    </tr>\n",
       "    <tr>\n",
       "      <th>20637</th>\n",
       "      <td>-121.22</td>\n",
       "      <td>39.43</td>\n",
       "      <td>17.0</td>\n",
       "      <td>2254.0</td>\n",
       "      <td>485.0</td>\n",
       "      <td>1007.0</td>\n",
       "      <td>433.0</td>\n",
       "      <td>1.7000</td>\n",
       "      <td>92300.0</td>\n",
       "      <td>INLAND</td>\n",
       "    </tr>\n",
       "    <tr>\n",
       "      <th>20638</th>\n",
       "      <td>-121.32</td>\n",
       "      <td>39.43</td>\n",
       "      <td>18.0</td>\n",
       "      <td>1860.0</td>\n",
       "      <td>409.0</td>\n",
       "      <td>741.0</td>\n",
       "      <td>349.0</td>\n",
       "      <td>1.8672</td>\n",
       "      <td>84700.0</td>\n",
       "      <td>INLAND</td>\n",
       "    </tr>\n",
       "    <tr>\n",
       "      <th>20639</th>\n",
       "      <td>-121.24</td>\n",
       "      <td>39.37</td>\n",
       "      <td>16.0</td>\n",
       "      <td>2785.0</td>\n",
       "      <td>616.0</td>\n",
       "      <td>1387.0</td>\n",
       "      <td>530.0</td>\n",
       "      <td>2.3886</td>\n",
       "      <td>89400.0</td>\n",
       "      <td>INLAND</td>\n",
       "    </tr>\n",
       "  </tbody>\n",
       "</table>\n",
       "<p>20640 rows × 10 columns</p>\n",
       "</div>"
      ],
      "text/plain": [
       "       longitude  latitude  housing_median_age  total_rooms  total_bedrooms  population  households  median_income  median_house_value ocean_proximity\n",
       "0        -122.23     37.88                41.0        880.0           129.0       322.0       126.0         8.3252            452600.0        NEAR BAY\n",
       "1        -122.22     37.86                21.0       7099.0          1106.0      2401.0      1138.0         8.3014            358500.0        NEAR BAY\n",
       "2        -122.24     37.85                52.0       1467.0           190.0       496.0       177.0         7.2574            352100.0        NEAR BAY\n",
       "3        -122.25     37.85                52.0       1274.0           235.0       558.0       219.0         5.6431            341300.0        NEAR BAY\n",
       "4        -122.25     37.85                52.0       1627.0           280.0       565.0       259.0         3.8462            342200.0        NEAR BAY\n",
       "...          ...       ...                 ...          ...             ...         ...         ...            ...                 ...             ...\n",
       "20635    -121.09     39.48                25.0       1665.0           374.0       845.0       330.0         1.5603             78100.0          INLAND\n",
       "20636    -121.21     39.49                18.0        697.0           150.0       356.0       114.0         2.5568             77100.0          INLAND\n",
       "20637    -121.22     39.43                17.0       2254.0           485.0      1007.0       433.0         1.7000             92300.0          INLAND\n",
       "20638    -121.32     39.43                18.0       1860.0           409.0       741.0       349.0         1.8672             84700.0          INLAND\n",
       "20639    -121.24     39.37                16.0       2785.0           616.0      1387.0       530.0         2.3886             89400.0          INLAND\n",
       "\n",
       "[20640 rows x 10 columns]"
      ]
     },
     "execution_count": 375,
     "metadata": {},
     "output_type": "execute_result"
    }
   ],
   "source": [
    "housing = pand.read_csv(\"housing.csv\")\n",
    "housing"
   ]
  },
  {
   "cell_type": "markdown",
   "id": "fc8d40cf",
   "metadata": {},
   "source": [
    "##### 1) Разбейте датасет на тренировочную, валидационную и тестовую выборку"
   ]
  },
  {
   "cell_type": "code",
   "execution_count": 376,
   "id": "0e8bfc84-13ba-4d0a-8264-e24479cf8699",
   "metadata": {},
   "outputs": [
    {
     "data": {
      "text/html": [
       "<div>\n",
       "<style scoped>\n",
       "    .dataframe tbody tr th:only-of-type {\n",
       "        vertical-align: middle;\n",
       "    }\n",
       "\n",
       "    .dataframe tbody tr th {\n",
       "        vertical-align: top;\n",
       "    }\n",
       "\n",
       "    .dataframe thead th {\n",
       "        text-align: right;\n",
       "    }\n",
       "</style>\n",
       "<table border=\"1\" class=\"dataframe\">\n",
       "  <thead>\n",
       "    <tr style=\"text-align: right;\">\n",
       "      <th></th>\n",
       "      <th>longitude</th>\n",
       "      <th>latitude</th>\n",
       "      <th>housing_median_age</th>\n",
       "      <th>total_rooms</th>\n",
       "      <th>total_bedrooms</th>\n",
       "      <th>population</th>\n",
       "      <th>households</th>\n",
       "      <th>median_income</th>\n",
       "      <th>median_house_value</th>\n",
       "      <th>ocean_proximity</th>\n",
       "    </tr>\n",
       "  </thead>\n",
       "  <tbody>\n",
       "    <tr>\n",
       "      <th>19427</th>\n",
       "      <td>-121.00</td>\n",
       "      <td>37.71</td>\n",
       "      <td>52.0</td>\n",
       "      <td>102.0</td>\n",
       "      <td>23.0</td>\n",
       "      <td>35.0</td>\n",
       "      <td>33.0</td>\n",
       "      <td>2.2500</td>\n",
       "      <td>175000.0</td>\n",
       "      <td>INLAND</td>\n",
       "    </tr>\n",
       "    <tr>\n",
       "      <th>8808</th>\n",
       "      <td>-118.39</td>\n",
       "      <td>33.71</td>\n",
       "      <td>18.0</td>\n",
       "      <td>1193.0</td>\n",
       "      <td>233.0</td>\n",
       "      <td>475.0</td>\n",
       "      <td>228.0</td>\n",
       "      <td>7.5594</td>\n",
       "      <td>500001.0</td>\n",
       "      <td>NEAR OCEAN</td>\n",
       "    </tr>\n",
       "    <tr>\n",
       "      <th>4707</th>\n",
       "      <td>-118.35</td>\n",
       "      <td>34.06</td>\n",
       "      <td>52.0</td>\n",
       "      <td>2837.0</td>\n",
       "      <td>602.0</td>\n",
       "      <td>1164.0</td>\n",
       "      <td>551.0</td>\n",
       "      <td>3.2411</td>\n",
       "      <td>250000.0</td>\n",
       "      <td>&lt;1H OCEAN</td>\n",
       "    </tr>\n",
       "    <tr>\n",
       "      <th>2236</th>\n",
       "      <td>-119.80</td>\n",
       "      <td>36.86</td>\n",
       "      <td>7.0</td>\n",
       "      <td>6434.0</td>\n",
       "      <td>1201.0</td>\n",
       "      <td>2733.0</td>\n",
       "      <td>1045.0</td>\n",
       "      <td>3.7656</td>\n",
       "      <td>145000.0</td>\n",
       "      <td>INLAND</td>\n",
       "    </tr>\n",
       "    <tr>\n",
       "      <th>13719</th>\n",
       "      <td>-117.18</td>\n",
       "      <td>34.07</td>\n",
       "      <td>14.0</td>\n",
       "      <td>1258.0</td>\n",
       "      <td>245.0</td>\n",
       "      <td>752.0</td>\n",
       "      <td>264.0</td>\n",
       "      <td>3.3924</td>\n",
       "      <td>97400.0</td>\n",
       "      <td>INLAND</td>\n",
       "    </tr>\n",
       "    <tr>\n",
       "      <th>...</th>\n",
       "      <td>...</td>\n",
       "      <td>...</td>\n",
       "      <td>...</td>\n",
       "      <td>...</td>\n",
       "      <td>...</td>\n",
       "      <td>...</td>\n",
       "      <td>...</td>\n",
       "      <td>...</td>\n",
       "      <td>...</td>\n",
       "      <td>...</td>\n",
       "    </tr>\n",
       "    <tr>\n",
       "      <th>7657</th>\n",
       "      <td>-118.26</td>\n",
       "      <td>33.83</td>\n",
       "      <td>28.0</td>\n",
       "      <td>4112.0</td>\n",
       "      <td>861.0</td>\n",
       "      <td>3211.0</td>\n",
       "      <td>841.0</td>\n",
       "      <td>4.4539</td>\n",
       "      <td>192200.0</td>\n",
       "      <td>&lt;1H OCEAN</td>\n",
       "    </tr>\n",
       "    <tr>\n",
       "      <th>9902</th>\n",
       "      <td>-122.27</td>\n",
       "      <td>38.28</td>\n",
       "      <td>37.0</td>\n",
       "      <td>1170.0</td>\n",
       "      <td>303.0</td>\n",
       "      <td>766.0</td>\n",
       "      <td>302.0</td>\n",
       "      <td>2.6618</td>\n",
       "      <td>136200.0</td>\n",
       "      <td>NEAR BAY</td>\n",
       "    </tr>\n",
       "    <tr>\n",
       "      <th>11890</th>\n",
       "      <td>-117.37</td>\n",
       "      <td>33.97</td>\n",
       "      <td>40.0</td>\n",
       "      <td>1166.0</td>\n",
       "      <td>250.0</td>\n",
       "      <td>976.0</td>\n",
       "      <td>244.0</td>\n",
       "      <td>1.9500</td>\n",
       "      <td>84800.0</td>\n",
       "      <td>INLAND</td>\n",
       "    </tr>\n",
       "    <tr>\n",
       "      <th>7609</th>\n",
       "      <td>-118.26</td>\n",
       "      <td>33.88</td>\n",
       "      <td>36.0</td>\n",
       "      <td>1212.0</td>\n",
       "      <td>222.0</td>\n",
       "      <td>775.0</td>\n",
       "      <td>224.0</td>\n",
       "      <td>5.5591</td>\n",
       "      <td>136500.0</td>\n",
       "      <td>&lt;1H OCEAN</td>\n",
       "    </tr>\n",
       "    <tr>\n",
       "      <th>17062</th>\n",
       "      <td>-122.21</td>\n",
       "      <td>37.48</td>\n",
       "      <td>39.0</td>\n",
       "      <td>1535.0</td>\n",
       "      <td>340.0</td>\n",
       "      <td>1204.0</td>\n",
       "      <td>370.0</td>\n",
       "      <td>2.8482</td>\n",
       "      <td>247200.0</td>\n",
       "      <td>NEAR BAY</td>\n",
       "    </tr>\n",
       "  </tbody>\n",
       "</table>\n",
       "<p>13209 rows × 10 columns</p>\n",
       "</div>"
      ],
      "text/plain": [
       "       longitude  latitude  housing_median_age  total_rooms  total_bedrooms  population  households  median_income  median_house_value ocean_proximity\n",
       "19427    -121.00     37.71                52.0        102.0            23.0        35.0        33.0         2.2500            175000.0          INLAND\n",
       "8808     -118.39     33.71                18.0       1193.0           233.0       475.0       228.0         7.5594            500001.0      NEAR OCEAN\n",
       "4707     -118.35     34.06                52.0       2837.0           602.0      1164.0       551.0         3.2411            250000.0       <1H OCEAN\n",
       "2236     -119.80     36.86                 7.0       6434.0          1201.0      2733.0      1045.0         3.7656            145000.0          INLAND\n",
       "13719    -117.18     34.07                14.0       1258.0           245.0       752.0       264.0         3.3924             97400.0          INLAND\n",
       "...          ...       ...                 ...          ...             ...         ...         ...            ...                 ...             ...\n",
       "7657     -118.26     33.83                28.0       4112.0           861.0      3211.0       841.0         4.4539            192200.0       <1H OCEAN\n",
       "9902     -122.27     38.28                37.0       1170.0           303.0       766.0       302.0         2.6618            136200.0        NEAR BAY\n",
       "11890    -117.37     33.97                40.0       1166.0           250.0       976.0       244.0         1.9500             84800.0          INLAND\n",
       "7609     -118.26     33.88                36.0       1212.0           222.0       775.0       224.0         5.5591            136500.0       <1H OCEAN\n",
       "17062    -122.21     37.48                39.0       1535.0           340.0      1204.0       370.0         2.8482            247200.0        NEAR BAY\n",
       "\n",
       "[13209 rows x 10 columns]"
      ]
     },
     "execution_count": 376,
     "metadata": {},
     "output_type": "execute_result"
    }
   ],
   "source": [
    "train_validation, test = train_test_split(housing, test_size = 0.2)\n",
    "train, validation = train_test_split(train_validation, test_size = 0.2)\n",
    "\n",
    "train"
   ]
  },
  {
   "cell_type": "markdown",
   "id": "64a50f80-153a-40ff-b621-acf2f0ad909a",
   "metadata": {},
   "source": [
    "##### 2) Проведите преобразование категориального признака ocean_proximity через OneHot или Dummy-кодировку"
   ]
  },
  {
   "cell_type": "code",
   "execution_count": 377,
   "id": "6b05ca94-c715-4923-bcb6-762615333009",
   "metadata": {},
   "outputs": [
    {
     "data": {
      "text/html": [
       "<div>\n",
       "<style scoped>\n",
       "    .dataframe tbody tr th:only-of-type {\n",
       "        vertical-align: middle;\n",
       "    }\n",
       "\n",
       "    .dataframe tbody tr th {\n",
       "        vertical-align: top;\n",
       "    }\n",
       "\n",
       "    .dataframe thead th {\n",
       "        text-align: right;\n",
       "    }\n",
       "</style>\n",
       "<table border=\"1\" class=\"dataframe\">\n",
       "  <thead>\n",
       "    <tr style=\"text-align: right;\">\n",
       "      <th></th>\n",
       "      <th>longitude</th>\n",
       "      <th>latitude</th>\n",
       "      <th>housing_median_age</th>\n",
       "      <th>total_rooms</th>\n",
       "      <th>total_bedrooms</th>\n",
       "      <th>population</th>\n",
       "      <th>households</th>\n",
       "      <th>median_income</th>\n",
       "      <th>median_house_value</th>\n",
       "      <th>ocean_proximity_&lt;1H OCEAN</th>\n",
       "      <th>ocean_proximity_INLAND</th>\n",
       "      <th>ocean_proximity_ISLAND</th>\n",
       "      <th>ocean_proximity_NEAR BAY</th>\n",
       "      <th>ocean_proximity_NEAR OCEAN</th>\n",
       "    </tr>\n",
       "  </thead>\n",
       "  <tbody>\n",
       "    <tr>\n",
       "      <th>19427</th>\n",
       "      <td>-121.00</td>\n",
       "      <td>37.71</td>\n",
       "      <td>52.0</td>\n",
       "      <td>102.0</td>\n",
       "      <td>23.0</td>\n",
       "      <td>35.0</td>\n",
       "      <td>33.0</td>\n",
       "      <td>2.2500</td>\n",
       "      <td>175000.0</td>\n",
       "      <td>0</td>\n",
       "      <td>1</td>\n",
       "      <td>0</td>\n",
       "      <td>0</td>\n",
       "      <td>0</td>\n",
       "    </tr>\n",
       "    <tr>\n",
       "      <th>8808</th>\n",
       "      <td>-118.39</td>\n",
       "      <td>33.71</td>\n",
       "      <td>18.0</td>\n",
       "      <td>1193.0</td>\n",
       "      <td>233.0</td>\n",
       "      <td>475.0</td>\n",
       "      <td>228.0</td>\n",
       "      <td>7.5594</td>\n",
       "      <td>500001.0</td>\n",
       "      <td>0</td>\n",
       "      <td>0</td>\n",
       "      <td>0</td>\n",
       "      <td>0</td>\n",
       "      <td>1</td>\n",
       "    </tr>\n",
       "    <tr>\n",
       "      <th>4707</th>\n",
       "      <td>-118.35</td>\n",
       "      <td>34.06</td>\n",
       "      <td>52.0</td>\n",
       "      <td>2837.0</td>\n",
       "      <td>602.0</td>\n",
       "      <td>1164.0</td>\n",
       "      <td>551.0</td>\n",
       "      <td>3.2411</td>\n",
       "      <td>250000.0</td>\n",
       "      <td>1</td>\n",
       "      <td>0</td>\n",
       "      <td>0</td>\n",
       "      <td>0</td>\n",
       "      <td>0</td>\n",
       "    </tr>\n",
       "    <tr>\n",
       "      <th>2236</th>\n",
       "      <td>-119.80</td>\n",
       "      <td>36.86</td>\n",
       "      <td>7.0</td>\n",
       "      <td>6434.0</td>\n",
       "      <td>1201.0</td>\n",
       "      <td>2733.0</td>\n",
       "      <td>1045.0</td>\n",
       "      <td>3.7656</td>\n",
       "      <td>145000.0</td>\n",
       "      <td>0</td>\n",
       "      <td>1</td>\n",
       "      <td>0</td>\n",
       "      <td>0</td>\n",
       "      <td>0</td>\n",
       "    </tr>\n",
       "    <tr>\n",
       "      <th>13719</th>\n",
       "      <td>-117.18</td>\n",
       "      <td>34.07</td>\n",
       "      <td>14.0</td>\n",
       "      <td>1258.0</td>\n",
       "      <td>245.0</td>\n",
       "      <td>752.0</td>\n",
       "      <td>264.0</td>\n",
       "      <td>3.3924</td>\n",
       "      <td>97400.0</td>\n",
       "      <td>0</td>\n",
       "      <td>1</td>\n",
       "      <td>0</td>\n",
       "      <td>0</td>\n",
       "      <td>0</td>\n",
       "    </tr>\n",
       "    <tr>\n",
       "      <th>...</th>\n",
       "      <td>...</td>\n",
       "      <td>...</td>\n",
       "      <td>...</td>\n",
       "      <td>...</td>\n",
       "      <td>...</td>\n",
       "      <td>...</td>\n",
       "      <td>...</td>\n",
       "      <td>...</td>\n",
       "      <td>...</td>\n",
       "      <td>...</td>\n",
       "      <td>...</td>\n",
       "      <td>...</td>\n",
       "      <td>...</td>\n",
       "      <td>...</td>\n",
       "    </tr>\n",
       "    <tr>\n",
       "      <th>7657</th>\n",
       "      <td>-118.26</td>\n",
       "      <td>33.83</td>\n",
       "      <td>28.0</td>\n",
       "      <td>4112.0</td>\n",
       "      <td>861.0</td>\n",
       "      <td>3211.0</td>\n",
       "      <td>841.0</td>\n",
       "      <td>4.4539</td>\n",
       "      <td>192200.0</td>\n",
       "      <td>1</td>\n",
       "      <td>0</td>\n",
       "      <td>0</td>\n",
       "      <td>0</td>\n",
       "      <td>0</td>\n",
       "    </tr>\n",
       "    <tr>\n",
       "      <th>9902</th>\n",
       "      <td>-122.27</td>\n",
       "      <td>38.28</td>\n",
       "      <td>37.0</td>\n",
       "      <td>1170.0</td>\n",
       "      <td>303.0</td>\n",
       "      <td>766.0</td>\n",
       "      <td>302.0</td>\n",
       "      <td>2.6618</td>\n",
       "      <td>136200.0</td>\n",
       "      <td>0</td>\n",
       "      <td>0</td>\n",
       "      <td>0</td>\n",
       "      <td>1</td>\n",
       "      <td>0</td>\n",
       "    </tr>\n",
       "    <tr>\n",
       "      <th>11890</th>\n",
       "      <td>-117.37</td>\n",
       "      <td>33.97</td>\n",
       "      <td>40.0</td>\n",
       "      <td>1166.0</td>\n",
       "      <td>250.0</td>\n",
       "      <td>976.0</td>\n",
       "      <td>244.0</td>\n",
       "      <td>1.9500</td>\n",
       "      <td>84800.0</td>\n",
       "      <td>0</td>\n",
       "      <td>1</td>\n",
       "      <td>0</td>\n",
       "      <td>0</td>\n",
       "      <td>0</td>\n",
       "    </tr>\n",
       "    <tr>\n",
       "      <th>7609</th>\n",
       "      <td>-118.26</td>\n",
       "      <td>33.88</td>\n",
       "      <td>36.0</td>\n",
       "      <td>1212.0</td>\n",
       "      <td>222.0</td>\n",
       "      <td>775.0</td>\n",
       "      <td>224.0</td>\n",
       "      <td>5.5591</td>\n",
       "      <td>136500.0</td>\n",
       "      <td>1</td>\n",
       "      <td>0</td>\n",
       "      <td>0</td>\n",
       "      <td>0</td>\n",
       "      <td>0</td>\n",
       "    </tr>\n",
       "    <tr>\n",
       "      <th>17062</th>\n",
       "      <td>-122.21</td>\n",
       "      <td>37.48</td>\n",
       "      <td>39.0</td>\n",
       "      <td>1535.0</td>\n",
       "      <td>340.0</td>\n",
       "      <td>1204.0</td>\n",
       "      <td>370.0</td>\n",
       "      <td>2.8482</td>\n",
       "      <td>247200.0</td>\n",
       "      <td>0</td>\n",
       "      <td>0</td>\n",
       "      <td>0</td>\n",
       "      <td>1</td>\n",
       "      <td>0</td>\n",
       "    </tr>\n",
       "  </tbody>\n",
       "</table>\n",
       "<p>13209 rows × 14 columns</p>\n",
       "</div>"
      ],
      "text/plain": [
       "       longitude  latitude  housing_median_age  total_rooms  total_bedrooms  population  households  median_income  median_house_value  ocean_proximity_<1H OCEAN  ocean_proximity_INLAND  ocean_proximity_ISLAND  ocean_proximity_NEAR BAY  ocean_proximity_NEAR OCEAN\n",
       "19427    -121.00     37.71                52.0        102.0            23.0        35.0        33.0         2.2500            175000.0                          0                       1                       0                         0                           0\n",
       "8808     -118.39     33.71                18.0       1193.0           233.0       475.0       228.0         7.5594            500001.0                          0                       0                       0                         0                           1\n",
       "4707     -118.35     34.06                52.0       2837.0           602.0      1164.0       551.0         3.2411            250000.0                          1                       0                       0                         0                           0\n",
       "2236     -119.80     36.86                 7.0       6434.0          1201.0      2733.0      1045.0         3.7656            145000.0                          0                       1                       0                         0                           0\n",
       "13719    -117.18     34.07                14.0       1258.0           245.0       752.0       264.0         3.3924             97400.0                          0                       1                       0                         0                           0\n",
       "...          ...       ...                 ...          ...             ...         ...         ...            ...                 ...                        ...                     ...                     ...                       ...                         ...\n",
       "7657     -118.26     33.83                28.0       4112.0           861.0      3211.0       841.0         4.4539            192200.0                          1                       0                       0                         0                           0\n",
       "9902     -122.27     38.28                37.0       1170.0           303.0       766.0       302.0         2.6618            136200.0                          0                       0                       0                         1                           0\n",
       "11890    -117.37     33.97                40.0       1166.0           250.0       976.0       244.0         1.9500             84800.0                          0                       1                       0                         0                           0\n",
       "7609     -118.26     33.88                36.0       1212.0           222.0       775.0       224.0         5.5591            136500.0                          1                       0                       0                         0                           0\n",
       "17062    -122.21     37.48                39.0       1535.0           340.0      1204.0       370.0         2.8482            247200.0                          0                       0                       0                         1                           0\n",
       "\n",
       "[13209 rows x 14 columns]"
      ]
     },
     "execution_count": 377,
     "metadata": {},
     "output_type": "execute_result"
    }
   ],
   "source": [
    "train = pand.get_dummies(train, columns=[\"ocean_proximity\"])\n",
    "validation = pand.get_dummies(validation, columns=[\"ocean_proximity\"])\n",
    "test = pand.get_dummies(test, columns=[\"ocean_proximity\"])\n",
    "\n",
    "train"
   ]
  },
  {
   "cell_type": "markdown",
   "id": "4af5d879-34fd-438f-968e-0719170ac04c",
   "metadata": {},
   "source": [
    "##### 3) Замените признаки total_rooms и total_bedrooms на average_rooms и average_bedrooms (поделив на households)."
   ]
  },
  {
   "cell_type": "code",
   "execution_count": 378,
   "id": "b4ed198d",
   "metadata": {},
   "outputs": [],
   "source": [
    "def to_average(data):\n",
    "    data['total_rooms'] /= data['households']\n",
    "    data['total_bedrooms'] /= data['households']\n",
    "    data.rename(columns={'total_rooms': 'average_rooms'}, inplace=True)\n",
    "    data.rename(columns={'total_bedrooms': 'average_bedrooms'}, inplace=True)"
   ]
  },
  {
   "cell_type": "code",
   "execution_count": 379,
   "id": "592b359d-cf15-4f4c-acfa-f0845aead12c",
   "metadata": {},
   "outputs": [
    {
     "name": "stdout",
     "output_type": "stream",
     "text": [
      "       longitude  latitude  housing_median_age  average_rooms  average_bedrooms  population  households  median_income  median_house_value  ocean_proximity_<1H OCEAN  ocean_proximity_INLAND  ocean_proximity_ISLAND  ocean_proximity_NEAR BAY  ocean_proximity_NEAR OCEAN\n",
      "19427    -121.00     37.71                52.0       3.090909          0.696970        35.0        33.0         2.2500            175000.0                          0                       1                       0                         0                           0\n",
      "8808     -118.39     33.71                18.0       5.232456          1.021930       475.0       228.0         7.5594            500001.0                          0                       0                       0                         0                           1\n",
      "4707     -118.35     34.06                52.0       5.148820          1.092559      1164.0       551.0         3.2411            250000.0                          1                       0                       0                         0                           0\n",
      "2236     -119.80     36.86                 7.0       6.156938          1.149282      2733.0      1045.0         3.7656            145000.0                          0                       1                       0                         0                           0\n",
      "13719    -117.18     34.07                14.0       4.765152          0.928030       752.0       264.0         3.3924             97400.0                          0                       1                       0                         0                           0\n",
      "...          ...       ...                 ...            ...               ...         ...         ...            ...                 ...                        ...                     ...                     ...                       ...                         ...\n",
      "7657     -118.26     33.83                28.0       4.889417          1.023781      3211.0       841.0         4.4539            192200.0                          1                       0                       0                         0                           0\n",
      "9902     -122.27     38.28                37.0       3.874172          1.003311       766.0       302.0         2.6618            136200.0                          0                       0                       0                         1                           0\n",
      "11890    -117.37     33.97                40.0       4.778689          1.024590       976.0       244.0         1.9500             84800.0                          0                       1                       0                         0                           0\n",
      "7609     -118.26     33.88                36.0       5.410714          0.991071       775.0       224.0         5.5591            136500.0                          1                       0                       0                         0                           0\n",
      "17062    -122.21     37.48                39.0       4.148649          0.918919      1204.0       370.0         2.8482            247200.0                          0                       0                       0                         1                           0\n",
      "\n",
      "[13209 rows x 14 columns]\n"
     ]
    }
   ],
   "source": [
    "to_average(train)\n",
    "to_average(validation)\n",
    "to_average(test)\n",
    "\n",
    "print(train)"
   ]
  },
  {
   "cell_type": "markdown",
   "id": "cdccd698-3f5c-4429-afb4-c846397187b9",
   "metadata": {},
   "source": [
    "##### 4) В признаке average_bedrooms (total_bedrooms) есть отсутствующие значения. Определите число экземпляров данных, для которых этот признак отсутствует. Придумайте и обоснуйте стратегию заполнения пропусков в этой задаче. Заполните пропуски."
   ]
  },
  {
   "cell_type": "code",
   "execution_count": 380,
   "id": "616fdc62-b30a-45f7-9a07-d611e45857b0",
   "metadata": {},
   "outputs": [],
   "source": [
    "train[\"average_bedrooms\"].fillna(value=train[\"average_bedrooms\"].mean(), inplace=True)\n",
    "validation[\"average_bedrooms\"].fillna(value=validation[\"average_bedrooms\"].mean(), inplace=True)\n",
    "test[\"average_bedrooms\"].fillna(value=test[\"average_bedrooms\"].mean(), inplace=True)"
   ]
  },
  {
   "cell_type": "markdown",
   "id": "2dbaa667-bbce-4648-aa3e-8ca961624044",
   "metadata": {},
   "source": [
    "##### 5) Нормализуйте признаки longitude и latitude (сделайте так, чтобы каждый признак имел среднее значение 0 и дисперсию 1 внутри обучающей выборки)"
   ]
  },
  {
   "cell_type": "code",
   "execution_count": 381,
   "id": "221e59e0-b21f-4397-b861-a165a41b9846",
   "metadata": {},
   "outputs": [
    {
     "name": "stdout",
     "output_type": "stream",
     "text": [
      "       longitude  latitude  housing_median_age  average_rooms  average_bedrooms  population  households  median_income  median_house_value  ocean_proximity_<1H OCEAN  ocean_proximity_INLAND  ocean_proximity_ISLAND  ocean_proximity_NEAR BAY  ocean_proximity_NEAR OCEAN\n",
      "19427  -0.722413  0.977798                52.0       3.090909          0.696970        35.0        33.0         2.2500            175000.0                          0                       1                       0                         0                           0\n",
      "8808    0.580606 -0.892577                18.0       5.232456          1.021930       475.0       228.0         7.5594            500001.0                          0                       0                       0                         0                           1\n",
      "4707    0.600575 -0.728919                52.0       5.148820          1.092559      1164.0       551.0         3.2411            250000.0                          1                       0                       0                         0                           0\n",
      "2236   -0.123324  0.580343                 7.0       6.156938          1.149282      2733.0      1045.0         3.7656            145000.0                          0                       1                       0                         0                           0\n",
      "13719   1.184687 -0.724243                14.0       4.765152          0.928030       752.0       264.0         3.3924             97400.0                          0                       1                       0                         0                           0\n",
      "...          ...       ...                 ...            ...               ...         ...         ...            ...                 ...                        ...                     ...                     ...                       ...                         ...\n",
      "7657    0.645507 -0.836466                28.0       4.889417          1.023781      3211.0       841.0         4.4539            192200.0                          1                       0                       0                         0                           0\n",
      "9902   -1.356448  1.244327                37.0       3.874172          1.003311       766.0       302.0         2.6618            136200.0                          0                       0                       0                         1                           0\n",
      "11890   1.089831 -0.771003                40.0       4.778689          1.024590       976.0       244.0         1.9500             84800.0                          0                       1                       0                         0                           0\n",
      "7609    0.645507 -0.813086                36.0       5.410714          0.991071       775.0       224.0         5.5591            136500.0                          1                       0                       0                         0                           0\n",
      "17062  -1.326494  0.870252                39.0       4.148649          0.918919      1204.0       370.0         2.8482            247200.0                          0                       0                       0                         1                           0\n",
      "\n",
      "[13209 rows x 14 columns]\n"
     ]
    }
   ],
   "source": [
    "SS = StandardScaler()\n",
    "train.loc[:, 'longitude':'latitude'] = SS.fit_transform(train.loc[:, 'longitude':'latitude'].to_numpy())\n",
    "validation.loc[:, 'longitude':'latitude'] = SS.transform(validation.loc[:, 'longitude':'latitude'].to_numpy())\n",
    "test.loc[:, 'longitude':'latitude'] = SS.transform(test.loc[:, 'longitude':'latitude'].to_numpy())\n",
    "\n",
    "print(train)"
   ]
  },
  {
   "cell_type": "markdown",
   "id": "dec992b5-16ed-48e6-a2ac-b0c02fdfc6c1",
   "metadata": {},
   "source": [
    "### Часть 2"
   ]
  },
  {
   "cell_type": "markdown",
   "id": "f7607f6c-b963-4863-b26b-b68792dc80b4",
   "metadata": {},
   "source": [
    "#### Задание 1."
   ]
  },
  {
   "cell_type": "code",
   "execution_count": 382,
   "id": "fd454029-7452-4d50-a00d-b9d2750373d3",
   "metadata": {},
   "outputs": [
    {
     "data": {
      "text/html": [
       "<div>\n",
       "<style scoped>\n",
       "    .dataframe tbody tr th:only-of-type {\n",
       "        vertical-align: middle;\n",
       "    }\n",
       "\n",
       "    .dataframe tbody tr th {\n",
       "        vertical-align: top;\n",
       "    }\n",
       "\n",
       "    .dataframe thead th {\n",
       "        text-align: right;\n",
       "    }\n",
       "</style>\n",
       "<table border=\"1\" class=\"dataframe\">\n",
       "  <thead>\n",
       "    <tr style=\"text-align: right;\">\n",
       "      <th></th>\n",
       "      <th>Unnamed: 0</th>\n",
       "      <th>sex</th>\n",
       "      <th>weight</th>\n",
       "      <th>height</th>\n",
       "      <th>repwt</th>\n",
       "      <th>repht</th>\n",
       "    </tr>\n",
       "  </thead>\n",
       "  <tbody>\n",
       "    <tr>\n",
       "      <th>0</th>\n",
       "      <td>1</td>\n",
       "      <td>M</td>\n",
       "      <td>77</td>\n",
       "      <td>182</td>\n",
       "      <td>77.0</td>\n",
       "      <td>180.0</td>\n",
       "    </tr>\n",
       "    <tr>\n",
       "      <th>1</th>\n",
       "      <td>2</td>\n",
       "      <td>F</td>\n",
       "      <td>58</td>\n",
       "      <td>161</td>\n",
       "      <td>51.0</td>\n",
       "      <td>159.0</td>\n",
       "    </tr>\n",
       "    <tr>\n",
       "      <th>2</th>\n",
       "      <td>3</td>\n",
       "      <td>F</td>\n",
       "      <td>53</td>\n",
       "      <td>161</td>\n",
       "      <td>54.0</td>\n",
       "      <td>158.0</td>\n",
       "    </tr>\n",
       "    <tr>\n",
       "      <th>3</th>\n",
       "      <td>4</td>\n",
       "      <td>M</td>\n",
       "      <td>68</td>\n",
       "      <td>177</td>\n",
       "      <td>70.0</td>\n",
       "      <td>175.0</td>\n",
       "    </tr>\n",
       "    <tr>\n",
       "      <th>4</th>\n",
       "      <td>5</td>\n",
       "      <td>F</td>\n",
       "      <td>59</td>\n",
       "      <td>157</td>\n",
       "      <td>59.0</td>\n",
       "      <td>155.0</td>\n",
       "    </tr>\n",
       "    <tr>\n",
       "      <th>...</th>\n",
       "      <td>...</td>\n",
       "      <td>...</td>\n",
       "      <td>...</td>\n",
       "      <td>...</td>\n",
       "      <td>...</td>\n",
       "      <td>...</td>\n",
       "    </tr>\n",
       "    <tr>\n",
       "      <th>195</th>\n",
       "      <td>196</td>\n",
       "      <td>M</td>\n",
       "      <td>74</td>\n",
       "      <td>175</td>\n",
       "      <td>71.0</td>\n",
       "      <td>175.0</td>\n",
       "    </tr>\n",
       "    <tr>\n",
       "      <th>196</th>\n",
       "      <td>197</td>\n",
       "      <td>M</td>\n",
       "      <td>83</td>\n",
       "      <td>180</td>\n",
       "      <td>80.0</td>\n",
       "      <td>180.0</td>\n",
       "    </tr>\n",
       "    <tr>\n",
       "      <th>197</th>\n",
       "      <td>198</td>\n",
       "      <td>M</td>\n",
       "      <td>81</td>\n",
       "      <td>175</td>\n",
       "      <td>NaN</td>\n",
       "      <td>NaN</td>\n",
       "    </tr>\n",
       "    <tr>\n",
       "      <th>198</th>\n",
       "      <td>199</td>\n",
       "      <td>M</td>\n",
       "      <td>90</td>\n",
       "      <td>181</td>\n",
       "      <td>91.0</td>\n",
       "      <td>178.0</td>\n",
       "    </tr>\n",
       "    <tr>\n",
       "      <th>199</th>\n",
       "      <td>200</td>\n",
       "      <td>M</td>\n",
       "      <td>79</td>\n",
       "      <td>177</td>\n",
       "      <td>81.0</td>\n",
       "      <td>178.0</td>\n",
       "    </tr>\n",
       "  </tbody>\n",
       "</table>\n",
       "<p>200 rows × 6 columns</p>\n",
       "</div>"
      ],
      "text/plain": [
       "     Unnamed: 0 sex  weight  height  repwt  repht\n",
       "0             1   M      77     182   77.0  180.0\n",
       "1             2   F      58     161   51.0  159.0\n",
       "2             3   F      53     161   54.0  158.0\n",
       "3             4   M      68     177   70.0  175.0\n",
       "4             5   F      59     157   59.0  155.0\n",
       "..          ...  ..     ...     ...    ...    ...\n",
       "195         196   M      74     175   71.0  175.0\n",
       "196         197   M      83     180   80.0  180.0\n",
       "197         198   M      81     175    NaN    NaN\n",
       "198         199   M      90     181   91.0  178.0\n",
       "199         200   M      79     177   81.0  178.0\n",
       "\n",
       "[200 rows x 6 columns]"
      ]
     },
     "execution_count": 382,
     "metadata": {},
     "output_type": "execute_result"
    }
   ],
   "source": [
    "davis = pand.read_csv(\"Davis.csv\")\n",
    "davis"
   ]
  },
  {
   "cell_type": "markdown",
   "id": "30b41864-91ed-4ee9-852a-132177c65745",
   "metadata": {},
   "source": [
    "##### 1) Удалите некорректные данные"
   ]
  },
  {
   "cell_type": "code",
   "execution_count": 383,
   "id": "fd5d909e-69e9-429a-8833-b4ce1581d14d",
   "metadata": {},
   "outputs": [],
   "source": [
    "davis = davis.drop('Unnamed: 0',axis=1)\n",
    "davis = davis.loc[davis['weight'] > 30]\n",
    "davis = davis.loc[davis['height'] > 100]"
   ]
  },
  {
   "cell_type": "markdown",
   "id": "a7c725f5-4d2d-4192-8fcd-871e3e41e5bf",
   "metadata": {},
   "source": [
    "##### 2) Выделите тестовую выборку из 50 экземпляров"
   ]
  },
  {
   "cell_type": "code",
   "execution_count": 384,
   "id": "f3969f84-29e1-4abb-ac13-7fac9713df61",
   "metadata": {},
   "outputs": [
    {
     "name": "stdout",
     "output_type": "stream",
     "text": [
      "    sex  weight  height  repwt  repht\n",
      "167   F      66     166   66.0  165.0\n",
      "69    M      80     178   76.0  175.0\n",
      "101   M      63     178   63.0  175.0\n",
      "128   F      68     171   68.0  169.0\n",
      "76    F      50     160   55.0  150.0\n",
      "..   ..     ...     ...    ...    ...\n",
      "19    F      61     175   61.0  171.0\n",
      "3     M      68     177   70.0  175.0\n",
      "71    M      66     173   66.0  175.0\n",
      "191   M      89     173   86.0  173.0\n",
      "149   M      88     184   86.0  183.0\n",
      "\n",
      "[149 rows x 5 columns]\n",
      "    sex  weight  height  repwt  repht\n",
      "60    M      68     165   69.0  165.0\n",
      "103   F      45     163   45.0  160.0\n",
      "119   M      65     178   66.0  178.0\n",
      "183   F      63     165   59.0  160.0\n",
      "90    M      70     173   68.0  170.0\n",
      "13    F      64     168   64.0  165.0\n",
      "12    F      51     161   52.0  158.0\n",
      "75    F      50     171    NaN    NaN\n",
      "142   F      53     165   55.0  163.0\n",
      "38    M      88     178   86.0  175.0\n",
      "74    F      50     166   50.0  161.0\n",
      "57    M      73     183   74.0  180.0\n",
      "136   F      64     172   62.0  168.0\n",
      "125   F      52     169   56.0    NaN\n",
      "129   F      44     157   44.0  155.0\n",
      "138   M      90     188   91.0  185.0\n",
      "79    M      69     183   70.0  183.0\n",
      "153   F      55     162    NaN    NaN\n",
      "44    M      85     179   82.0  175.0\n",
      "97    F      50     169   50.0  165.0\n",
      "173   M      82     176    NaN    NaN\n",
      "27    F      58     166   60.0  160.0\n",
      "131   M      87     185   89.0  185.0\n",
      "111   M      79     179   79.0  171.0\n",
      "189   F      50     158   49.0  155.0\n",
      "45    F      54     160   55.0  158.0\n",
      "17    F      62     168   62.0  165.0\n",
      "29    M     101     183  100.0  180.0\n",
      "196   M      83     180   80.0  180.0\n",
      "84    F      56     170   56.0  170.0\n",
      "21    F      61     170   61.0  170.0\n",
      "23    M      66     173   70.0  170.0\n",
      "186   F      60     172   55.0  168.0\n",
      "151   F      47     162   47.0  160.0\n",
      "166   F      63     170   62.0  168.0\n",
      "171   F      54     163    NaN    NaN\n",
      "62    M      71     180   76.0  175.0\n",
      "145   F      55     160   55.0  155.0\n",
      "182   M      82     181    NaN    NaN\n",
      "140   M      66     175   68.0  175.0\n",
      "64    M      97     189   98.0  185.0\n",
      "89    F      57     162   56.0  160.0\n",
      "193   F      51     156   51.0  158.0\n",
      "161   F      54     161   54.0  160.0\n",
      "68    F      52     158   51.0  155.0\n",
      "82    F      53     169   52.0  175.0\n",
      "150   F      57     168   58.0  165.0\n",
      "42    F      63     163   59.0  159.0\n",
      "185   F      56     162   56.0  160.0\n",
      "144   F      64     171   66.0  171.0\n"
     ]
    }
   ],
   "source": [
    "train, test = train_test_split(davis, test_size=50)\n",
    "\n",
    "print(train)\n",
    "print(test)"
   ]
  },
  {
   "cell_type": "markdown",
   "id": "b0ae6c23-c40b-4327-bf99-b4f726e77602",
   "metadata": {},
   "source": [
    "##### 3) На тренировочных данных постройте: Гистограмму height, Гистограмму weight, Эти же гистограммы для разных полов"
   ]
  },
  {
   "cell_type": "code",
   "execution_count": 385,
   "id": "2d51b5ac-eb1b-4dcf-aa0c-5a400ed0d574",
   "metadata": {},
   "outputs": [
    {
     "data": {
      "text/plain": [
       "<AxesSubplot:xlabel='height', ylabel='Count'>"
      ]
     },
     "execution_count": 385,
     "metadata": {},
     "output_type": "execute_result"
    },
    {
     "data": {
      "image/png": "[encoded data removed]",
      "text/plain": [
       "<Figure size 432x288 with 1 Axes>"
      ]
     },
     "metadata": {
      "needs_background": "light"
     },
     "output_type": "display_data"
    }
   ],
   "source": [
    "sea.histplot(train[\"height\"], kde = True)"
   ]
  },
  {
   "cell_type": "code",
   "execution_count": 386,
   "id": "9e1eb56b-8a35-4ba8-b1a9-11a9b19426ed",
   "metadata": {},
   "outputs": [
    {
     "data": {
      "text/plain": [
       "<AxesSubplot:xlabel='weight', ylabel='Count'>"
      ]
     },
     "execution_count": 386,
     "metadata": {},
     "output_type": "execute_result"
    },
    {
     "data": {
      "image/png": "[encoded data removed]",
      "text/plain": [
       "<Figure size 432x288 with 1 Axes>"
      ]
     },
     "metadata": {
      "needs_background": "light"
     },
     "output_type": "display_data"
    }
   ],
   "source": [
    "sea.histplot(train[\"weight\"], kde = True)"
   ]
  },
  {
   "cell_type": "code",
   "execution_count": 387,
   "id": "3b6baf83-f3da-4693-abaf-7c6e97a163f3",
   "metadata": {},
   "outputs": [],
   "source": [
    "train_men = train[train[\"sex\"] == 'M']\n",
    "train_women = train[train[\"sex\"] == 'F']"
   ]
  },
  {
   "cell_type": "code",
   "execution_count": 388,
   "id": "3bb95dda-35fa-43c1-8d32-e74e9f80d97d",
   "metadata": {},
   "outputs": [
    {
     "data": {
      "text/plain": [
       "<AxesSubplot:xlabel='height', ylabel='Count'>"
      ]
     },
     "execution_count": 388,
     "metadata": {},
     "output_type": "execute_result"
    },
    {
     "data": {
      "image/png": "[encoded data removed]",
      "text/plain": [
       "<Figure size 432x288 with 1 Axes>"
      ]
     },
     "metadata": {
      "needs_background": "light"
     },
     "output_type": "display_data"
    }
   ],
   "source": [
    "sea.histplot(train_men['height'], kde = True)"
   ]
  },
  {
   "cell_type": "code",
   "execution_count": 389,
   "id": "5000a924-7663-4f25-b84e-b2d3c5354eec",
   "metadata": {},
   "outputs": [
    {
     "data": {
      "text/plain": [
       "<AxesSubplot:xlabel='weight', ylabel='Count'>"
      ]
     },
     "execution_count": 389,
     "metadata": {},
     "output_type": "execute_result"
    },
    {
     "data": {
      "image/png": "[encoded data removed]",
      "text/plain": [
       "<Figure size 432x288 with 1 Axes>"
      ]
     },
     "metadata": {
      "needs_background": "light"
     },
     "output_type": "display_data"
    }
   ],
   "source": [
    "sea.histplot(train_men[\"weight\"], kde = True)"
   ]
  },
  {
   "cell_type": "code",
   "execution_count": 390,
   "id": "5e54b42c-8d9e-4072-bcc0-3dbead475898",
   "metadata": {},
   "outputs": [
    {
     "data": {
      "text/plain": [
       "<AxesSubplot:xlabel='height', ylabel='Count'>"
      ]
     },
     "execution_count": 390,
     "metadata": {},
     "output_type": "execute_result"
    },
    {
     "data": {
      "image/png": "[encoded data removed]",
      "text/plain": [
       "<Figure size 432x288 with 1 Axes>"
      ]
     },
     "metadata": {
      "needs_background": "light"
     },
     "output_type": "display_data"
    }
   ],
   "source": [
    "sea.histplot(train_women[\"height\"], kde = True)"
   ]
  },
  {
   "cell_type": "code",
   "execution_count": 391,
   "id": "cba26386-bd36-4b6d-80d0-1546ffc1b532",
   "metadata": {},
   "outputs": [
    {
     "data": {
      "text/plain": [
       "<AxesSubplot:xlabel='weight', ylabel='Count'>"
      ]
     },
     "execution_count": 391,
     "metadata": {},
     "output_type": "execute_result"
    },
    {
     "data": {
      "image/png": "[encoded data removed]",
      "text/plain": [
       "<Figure size 432x288 with 1 Axes>"
      ]
     },
     "metadata": {
      "needs_background": "light"
     },
     "output_type": "display_data"
    }
   ],
   "source": [
    "sea.histplot(train_women[\"weight\"], kde = True)"
   ]
  },
  {
   "cell_type": "markdown",
   "id": "c4f7afff-a77d-4d9a-8dc9-8ec1d79e7fb4",
   "metadata": {},
   "source": [
    "##### 4) На тренировочных данных обучите классификатор пола (sex), используя только признаки height и weight. Замерьте производительность на тренировочной и тестовой выборке (через Accuracy). Рекомендуемые модели:  логистическая регрессия, quadratic discriminant analysis."
   ]
  },
  {
   "cell_type": "code",
   "execution_count": 392,
   "id": "a7a96078-1cee-44f4-9fd3-f84e35b50c43",
   "metadata": {},
   "outputs": [
    {
     "name": "stdout",
     "output_type": "stream",
     "text": [
      "Производительность тренировочной: 0.8859060402684564\n",
      "Производительность тестовой: 0.96\n"
     ]
    }
   ],
   "source": [
    "train.replace({'M': 0, 'F': 1}, inplace=True)\n",
    "test.replace({'M': 0, 'F': 1}, inplace=True)\n",
    "\n",
    "trainX = train.loc[:, 'weight':'height'].to_numpy()\n",
    "trainY = train['sex'].to_numpy()\n",
    "clf = LogisticRegression().fit(trainX, trainY)\n",
    "print('Производительность тренировочной:', clf.score(trainX, trainY))\n",
    "\n",
    "testX = test.loc[:, 'weight':'height'].to_numpy()\n",
    "testY = test['sex'].to_numpy()\n",
    "print('Производительность тестовой:', clf.score(testX, testY))\n",
    "\n",
    "predicts = clf.predict(trainX)"
   ]
  },
  {
   "cell_type": "markdown",
   "id": "6c355d25",
   "metadata": {},
   "source": [
    "##### 5) Отобразите точки из обучающей выборки на плоскости (height-weight). Покрасьте их цветами в зависимости от пола. Раскрасьте области в зависимости от пола, предсказанного обученным в п.4. классификатором. Сделайте аналогичный график на тестовой выборке."
   ]
  },
  {
   "cell_type": "code",
   "execution_count": 393,
   "id": "56adeaf0",
   "metadata": {},
   "outputs": [
    {
     "data": {
      "image/png": "[encoded data removed]",
      "text/plain": [
       "<Figure size 1200x800 with 2 Axes>"
      ]
     },
     "metadata": {
      "needs_background": "light"
     },
     "output_type": "display_data"
    }
   ],
   "source": [
    "fig = plot.figure(figsize=(15, 10), dpi=80)\n",
    "\n",
    "ax_1 = fig.add_subplot(2, 2, 3)\n",
    "ax_2 = fig.add_subplot(2, 2, 4)\n",
    "\n",
    "x1_min, x1_max = trainX[:, 0].min() - 0.5, trainX[:, 1].max()+0.5\n",
    "x2_min, x2_max = trainX[:, 0].min() - 0.5, trainX[:, 1].max()+0.5\n",
    "\n",
    "clf = LogisticRegression().fit(trainX, trainY)\n",
    "\n",
    "xx1, xx2 = num.mgrid[x1_min:x1_max:50j, x2_min:x2_max:50j]\n",
    "X_pred = num.column_stack([xx1.reshape(-1), xx2.reshape(-1)])\n",
    "y_pred = clf.predict(X_pred)\n",
    "\n",
    "predicts = clf.predict(trainX)\n",
    "\n",
    "ax_1.scatter(trainX[predicts == 0][:, 0], trainX[predicts == 0][:, 1], color='blue', label='M')\n",
    "ax_1.scatter(trainX[predicts == 1][:, 0], trainX[predicts == 1][:, 1], color='red', label='F')\n",
    "ax_1.set_ylabel('weight')\n",
    "ax_1.set_xlabel('height')\n",
    "ax_1.set_title('Тренировочная выборка')\n",
    "ax_1.pcolormesh(xx1, xx2, y_pred.reshape(xx1.shape), cmap=ListedColormap(['blue', 'red']), alpha=0.3, shading='auto')\n",
    "ax_1.legend()\n",
    "\n",
    "\n",
    "x1_min, x1_max = testX[:, 0].min() - 0.5, testX[:, 1].max()+0.5\n",
    "x2_min, x2_max = testX[:, 0].min() - 0.5, testX[:, 1].max()+0.5\n",
    "\n",
    "xx1, xx2 = num.mgrid[x1_min:x1_max:50j, x2_min:x2_max:50j]\n",
    "X_pred = num.column_stack([xx1.reshape(-1), xx2.reshape(-1)])\n",
    "y_pred = clf.predict(X_pred)\n",
    "\n",
    "predicts = clf.predict(testX)\n",
    "ax_2.scatter(testX[predicts == 0][:, 0], testX[predicts == 0][:, 1], color='blue', label='M')\n",
    "ax_2.scatter(testX[predicts == 1][:, 0], testX[predicts == 1][:, 1], color='red', label='F')\n",
    "ax_2.set_ylabel('weight')\n",
    "ax_2.set_xlabel('height')\n",
    "ax_2.set_title('Тестовая выборка')\n",
    "ax_2.pcolormesh(xx1, xx2, y_pred.reshape(xx1.shape), cmap=ListedColormap(['blue', 'red']), alpha=0.3, shading='auto')\n",
    "ax_2.legend()\n",
    "\n",
    "plot.show()"
   ]
  },
  {
   "cell_type": "markdown",
   "id": "1b10a26b-5908-4359-a0ed-10174093cb8f",
   "metadata": {},
   "source": [
    "#### Задание 2."
   ]
  },
  {
   "cell_type": "markdown",
   "id": "0a1649ae-0481-4c2d-adac-581dc19557a9",
   "metadata": {},
   "source": [
    "##### Чтение данных из таблицы exel."
   ]
  },
  {
   "cell_type": "code",
   "execution_count": 394,
   "id": "871ac9a4-fb1d-47e2-bc68-5bc5fcdb706d",
   "metadata": {},
   "outputs": [
    {
     "data": {
      "text/html": [
       "<div>\n",
       "<style scoped>\n",
       "    .dataframe tbody tr th:only-of-type {\n",
       "        vertical-align: middle;\n",
       "    }\n",
       "\n",
       "    .dataframe tbody tr th {\n",
       "        vertical-align: top;\n",
       "    }\n",
       "\n",
       "    .dataframe thead th {\n",
       "        text-align: right;\n",
       "    }\n",
       "</style>\n",
       "<table border=\"1\" class=\"dataframe\">\n",
       "  <thead>\n",
       "    <tr style=\"text-align: right;\">\n",
       "      <th></th>\n",
       "      <th>AT</th>\n",
       "      <th>V</th>\n",
       "      <th>AP</th>\n",
       "      <th>RH</th>\n",
       "      <th>PE</th>\n",
       "    </tr>\n",
       "  </thead>\n",
       "  <tbody>\n",
       "    <tr>\n",
       "      <th>0</th>\n",
       "      <td>14.96</td>\n",
       "      <td>41.76</td>\n",
       "      <td>1024.07</td>\n",
       "      <td>73.17</td>\n",
       "      <td>463.26</td>\n",
       "    </tr>\n",
       "    <tr>\n",
       "      <th>1</th>\n",
       "      <td>25.18</td>\n",
       "      <td>62.96</td>\n",
       "      <td>1020.04</td>\n",
       "      <td>59.08</td>\n",
       "      <td>444.37</td>\n",
       "    </tr>\n",
       "    <tr>\n",
       "      <th>2</th>\n",
       "      <td>5.11</td>\n",
       "      <td>39.40</td>\n",
       "      <td>1012.16</td>\n",
       "      <td>92.14</td>\n",
       "      <td>488.56</td>\n",
       "    </tr>\n",
       "    <tr>\n",
       "      <th>3</th>\n",
       "      <td>20.86</td>\n",
       "      <td>57.32</td>\n",
       "      <td>1010.24</td>\n",
       "      <td>76.64</td>\n",
       "      <td>446.48</td>\n",
       "    </tr>\n",
       "    <tr>\n",
       "      <th>4</th>\n",
       "      <td>10.82</td>\n",
       "      <td>37.50</td>\n",
       "      <td>1009.23</td>\n",
       "      <td>96.62</td>\n",
       "      <td>473.90</td>\n",
       "    </tr>\n",
       "    <tr>\n",
       "      <th>...</th>\n",
       "      <td>...</td>\n",
       "      <td>...</td>\n",
       "      <td>...</td>\n",
       "      <td>...</td>\n",
       "      <td>...</td>\n",
       "    </tr>\n",
       "    <tr>\n",
       "      <th>9563</th>\n",
       "      <td>16.65</td>\n",
       "      <td>49.69</td>\n",
       "      <td>1014.01</td>\n",
       "      <td>91.00</td>\n",
       "      <td>460.03</td>\n",
       "    </tr>\n",
       "    <tr>\n",
       "      <th>9564</th>\n",
       "      <td>13.19</td>\n",
       "      <td>39.18</td>\n",
       "      <td>1023.67</td>\n",
       "      <td>66.78</td>\n",
       "      <td>469.62</td>\n",
       "    </tr>\n",
       "    <tr>\n",
       "      <th>9565</th>\n",
       "      <td>31.32</td>\n",
       "      <td>74.33</td>\n",
       "      <td>1012.92</td>\n",
       "      <td>36.48</td>\n",
       "      <td>429.57</td>\n",
       "    </tr>\n",
       "    <tr>\n",
       "      <th>9566</th>\n",
       "      <td>24.48</td>\n",
       "      <td>69.45</td>\n",
       "      <td>1013.86</td>\n",
       "      <td>62.39</td>\n",
       "      <td>435.74</td>\n",
       "    </tr>\n",
       "    <tr>\n",
       "      <th>9567</th>\n",
       "      <td>21.60</td>\n",
       "      <td>62.52</td>\n",
       "      <td>1017.23</td>\n",
       "      <td>67.87</td>\n",
       "      <td>453.28</td>\n",
       "    </tr>\n",
       "  </tbody>\n",
       "</table>\n",
       "<p>9568 rows × 5 columns</p>\n",
       "</div>"
      ],
      "text/plain": [
       "         AT      V       AP     RH      PE\n",
       "0     14.96  41.76  1024.07  73.17  463.26\n",
       "1     25.18  62.96  1020.04  59.08  444.37\n",
       "2      5.11  39.40  1012.16  92.14  488.56\n",
       "3     20.86  57.32  1010.24  76.64  446.48\n",
       "4     10.82  37.50  1009.23  96.62  473.90\n",
       "...     ...    ...      ...    ...     ...\n",
       "9563  16.65  49.69  1014.01  91.00  460.03\n",
       "9564  13.19  39.18  1023.67  66.78  469.62\n",
       "9565  31.32  74.33  1012.92  36.48  429.57\n",
       "9566  24.48  69.45  1013.86  62.39  435.74\n",
       "9567  21.60  62.52  1017.23  67.87  453.28\n",
       "\n",
       "[9568 rows x 5 columns]"
      ]
     },
     "execution_count": 394,
     "metadata": {},
     "output_type": "execute_result"
    }
   ],
   "source": [
    "Folds5x2 = pand.read_excel(\"Folds5x2_pp.xlsx\", sheet_name = \"Sheet1\")\n",
    "\n",
    "Folds5x2"
   ]
  },
  {
   "cell_type": "markdown",
   "id": "1cb4eace",
   "metadata": {},
   "source": [
    "##### 1) Возьмите данные с листа 1 и выделите валидационную и тестовую выборку."
   ]
  },
  {
   "cell_type": "code",
   "execution_count": 395,
   "id": "178079ef-1ff2-4cb4-aa3b-fe0c4d87ec77",
   "metadata": {},
   "outputs": [],
   "source": [
    "train_validation, test = train_test_split(Folds5x2, test_size = 0.2)\n",
    "train, validation = train_test_split(train_validation, test_size = 0.2)"
   ]
  },
  {
   "cell_type": "markdown",
   "id": "80f9606e-d69a-47bf-b91d-721a9b5870c4",
   "metadata": {},
   "source": [
    "##### 2) Постройте регрессионную модель.  Замерьте коэффициент R^2 и среднюю ошибку предсказания на валидационной выборке."
   ]
  },
  {
   "cell_type": "code",
   "execution_count": 396,
   "id": "3d4dd886-8bc0-4063-a66a-77bdb6d5df82",
   "metadata": {},
   "outputs": [],
   "source": [
    "trainY = train[\"PE\"].to_numpy()\n",
    "trainX = train.drop([\"PE\"], axis=1).to_numpy()\n",
    "\n",
    "valY = validation[\"PE\"].to_numpy()\n",
    "valX = validation.drop([\"PE\"], axis=1).to_numpy()\n",
    "\n",
    "testY = test[\"PE\"].to_numpy()\n",
    "testX = test.drop([\"PE\"], axis=1).to_numpy()"
   ]
  },
  {
   "cell_type": "code",
   "execution_count": 397,
   "id": "ddfcb4ab-966d-4502-a99a-9bd1c0e798be",
   "metadata": {},
   "outputs": [
    {
     "name": "stdout",
     "output_type": "stream",
     "text": [
      "R^2 = 0.9238345853403003\n",
      "MSE = 21.38926694489555\n"
     ]
    }
   ],
   "source": [
    "linear = LinearRegression().fit(valX, valY)\n",
    "predictions = linear.predict(valX)\n",
    "\n",
    "print(\"R^2 =\", linear.score(valX, valY)) \n",
    "print(\"MSE =\", mean_squared_error(predictions, valY))"
   ]
  },
  {
   "cell_type": "markdown",
   "id": "8279b147-ae3b-49f5-9562-840012ee34e3",
   "metadata": {},
   "source": [
    "##### 3) Постройте точки из валидационной выборки на плоскости (t=истинное значение, y=предсказание модели). Отобразите вместе с ними прямую y=t. "
   ]
  },
  {
   "cell_type": "code",
   "execution_count": 398,
   "id": "c8886675-e3f2-49ae-bb4f-18980d7b4a9d",
   "metadata": {},
   "outputs": [
    {
     "data": {
      "text/plain": [
       "Text(0, 0.5, 'Оценка')"
      ]
     },
     "execution_count": 398,
     "metadata": {},
     "output_type": "execute_result"
    },
    {
     "data": {
      "image/png": "[encoded data removed]",
      "text/plain": [
       "<Figure size 432x288 with 1 Axes>"
      ]
     },
     "metadata": {
      "needs_background": "light"
     },
     "output_type": "display_data"
    }
   ],
   "source": [
    "plot.scatter(valY, predictions)\n",
    "f = lambda x: x\n",
    "x = num.linspace(420, 500,5)\n",
    "plot.plot(x, f(x), color = 'k')\n",
    "plot.xlabel(\"Наблюдение\")\n",
    "plot.ylabel(\"Оценка\")"
   ]
  }
 ],
 "metadata": {
  "kernelspec": {
   "display_name": "Python 3",
   "language": "python",
   "name": "python3"
  },
  "language_info": {
   "codemirror_mode": {
    "name": "ipython",
    "version": 3
   },
   "file_extension": ".py",
   "mimetype": "text/x-python",
   "name": "python",
   "nbconvert_exporter": "python",
   "pygments_lexer": "ipython3",
   "version": "3.9.7"
  }
 },
 "nbformat": 4,
 "nbformat_minor": 5
}
